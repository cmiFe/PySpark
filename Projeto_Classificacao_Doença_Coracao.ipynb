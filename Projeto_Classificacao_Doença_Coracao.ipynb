{
  "nbformat": 4,
  "nbformat_minor": 0,
  "metadata": {
    "colab": {
      "name": "Projeto_Classificacao.ipynb",
      "provenance": []
    },
    "kernelspec": {
      "name": "python3",
      "display_name": "Python 3"
    }
  },
  "cells": [
    {
      "cell_type": "code",
      "metadata": {
        "id": "EXcwdWCaRJMM",
        "outputId": "e6e3e6ed-9842-4b32-e6d4-1d39390a6828",
        "colab": {
          "base_uri": "https://localhost:8080/"
        }
      },
      "source": [
        "!apt-get install openjdk-8-jdk-headless -qq > /dev/null\n",
        "!wget -q http://www-eu.apache.org/dist/spark/spark-2.4.1/spark-2.4.1-bin-hadoop2.7.tgz\n",
        "!tar xf spark-2.4.1-bin-hadoop2.7.tgz\n",
        "!pip install -q findspark\n",
        "!pip install -q pyspark\n"
      ],
      "execution_count": null,
      "outputs": [
        {
          "output_type": "stream",
          "text": [
            "tar: spark-2.4.1-bin-hadoop2.7.tgz: Cannot open: No such file or directory\n",
            "tar: Error is not recoverable: exiting now\n"
          ],
          "name": "stdout"
        }
      ]
    },
    {
      "cell_type": "code",
      "metadata": {
        "id": "tkb6_d7LR6G4"
      },
      "source": [
        "import pyspark\n",
        "from pyspark.sql import SparkSession\n",
        "from pyspark.sql.functions import isnan, when, count, col,lit,round\n",
        "from pyspark.sql.types import  StructField, StructType, StringType, IntegerType,FloatType\n",
        "from pyspark.ml.stat import Correlation\n",
        "from pyspark.ml.feature import VectorAssembler,MinMaxScaler\n",
        "import numpy as np\n",
        "from pyspark.ml import Pipeline\n",
        "from pyspark.ml.classification import RandomForestClassifier\n",
        "from pyspark.ml.evaluation import MulticlassClassificationEvaluator,BinaryClassificationEvaluator\n",
        "from pyspark.ml.classification import GBTClassifier"
      ],
      "execution_count": null,
      "outputs": []
    },
    {
      "cell_type": "code",
      "metadata": {
        "id": "B0sjmAUER__R"
      },
      "source": [
        "spark = SparkSession.builder.appName(\"Projeto Classificador\").getOrCreate()\n",
        "dataset = spark.read.csv(\"cardio_train.csv\",sep = \";\",header=True)"
      ],
      "execution_count": null,
      "outputs": []
    },
    {
      "cell_type": "code",
      "metadata": {
        "id": "hIB3kXT_SLqJ",
        "outputId": "27f8408b-bd7b-47b2-d7cf-495460c202c7",
        "colab": {
          "base_uri": "https://localhost:8080/"
        }
      },
      "source": [
        "dataset.show()"
      ],
      "execution_count": null,
      "outputs": [
        {
          "output_type": "stream",
          "text": [
            "+---+-----+------+------+------+-----+-----+-----------+----+-----+----+------+------+\n",
            "| id|  age|gender|height|weight|ap_hi|ap_lo|cholesterol|gluc|smoke|alco|active|cardio|\n",
            "+---+-----+------+------+------+-----+-----+-----------+----+-----+----+------+------+\n",
            "|  0|18393|     2|   168|  62.0|  110|   80|          1|   1|    0|   0|     1|     0|\n",
            "|  1|20228|     1|   156|  85.0|  140|   90|          3|   1|    0|   0|     1|     1|\n",
            "|  2|18857|     1|   165|  64.0|  130|   70|          3|   1|    0|   0|     0|     1|\n",
            "|  3|17623|     2|   169|  82.0|  150|  100|          1|   1|    0|   0|     1|     1|\n",
            "|  4|17474|     1|   156|  56.0|  100|   60|          1|   1|    0|   0|     0|     0|\n",
            "|  8|21914|     1|   151|  67.0|  120|   80|          2|   2|    0|   0|     0|     0|\n",
            "|  9|22113|     1|   157|  93.0|  130|   80|          3|   1|    0|   0|     1|     0|\n",
            "| 12|22584|     2|   178|  95.0|  130|   90|          3|   3|    0|   0|     1|     1|\n",
            "| 13|17668|     1|   158|  71.0|  110|   70|          1|   1|    0|   0|     1|     0|\n",
            "| 14|19834|     1|   164|  68.0|  110|   60|          1|   1|    0|   0|     0|     0|\n",
            "| 15|22530|     1|   169|  80.0|  120|   80|          1|   1|    0|   0|     1|     0|\n",
            "| 16|18815|     2|   173|  60.0|  120|   80|          1|   1|    0|   0|     1|     0|\n",
            "| 18|14791|     2|   165|  60.0|  120|   80|          1|   1|    0|   0|     0|     0|\n",
            "| 21|19809|     1|   158|  78.0|  110|   70|          1|   1|    0|   0|     1|     0|\n",
            "| 23|14532|     2|   181|  95.0|  130|   90|          1|   1|    1|   1|     1|     0|\n",
            "| 24|16782|     2|   172| 112.0|  120|   80|          1|   1|    0|   0|     0|     1|\n",
            "| 25|21296|     1|   170|  75.0|  130|   70|          1|   1|    0|   0|     0|     0|\n",
            "| 27|16747|     1|   158|  52.0|  110|   70|          1|   3|    0|   0|     1|     0|\n",
            "| 28|17482|     1|   154|  68.0|  100|   70|          1|   1|    0|   0|     0|     0|\n",
            "| 29|21755|     2|   162|  56.0|  120|   70|          1|   1|    1|   0|     1|     0|\n",
            "+---+-----+------+------+------+-----+-----+-----------+----+-----+----+------+------+\n",
            "only showing top 20 rows\n",
            "\n"
          ],
          "name": "stdout"
        }
      ]
    },
    {
      "cell_type": "code",
      "metadata": {
        "id": "1K6A-37WSoY5",
        "outputId": "1539f16d-f448-4ff8-f0f1-d1da7dd3a7ec",
        "colab": {
          "base_uri": "https://localhost:8080/"
        }
      },
      "source": [
        "dataset.count()"
      ],
      "execution_count": null,
      "outputs": [
        {
          "output_type": "execute_result",
          "data": {
            "text/plain": [
              "70000"
            ]
          },
          "metadata": {
            "tags": []
          },
          "execution_count": 278
        }
      ]
    },
    {
      "cell_type": "code",
      "metadata": {
        "id": "Jsp9vsRpSxgn",
        "outputId": "b83ecc3f-f744-4b36-9fc6-a3d389b3c9fa",
        "colab": {
          "base_uri": "https://localhost:8080/"
        }
      },
      "source": [
        "dataset.printSchema()"
      ],
      "execution_count": null,
      "outputs": [
        {
          "output_type": "stream",
          "text": [
            "root\n",
            " |-- id: string (nullable = true)\n",
            " |-- age: string (nullable = true)\n",
            " |-- gender: string (nullable = true)\n",
            " |-- height: string (nullable = true)\n",
            " |-- weight: string (nullable = true)\n",
            " |-- ap_hi: string (nullable = true)\n",
            " |-- ap_lo: string (nullable = true)\n",
            " |-- cholesterol: string (nullable = true)\n",
            " |-- gluc: string (nullable = true)\n",
            " |-- smoke: string (nullable = true)\n",
            " |-- alco: string (nullable = true)\n",
            " |-- active: string (nullable = true)\n",
            " |-- cardio: string (nullable = true)\n",
            "\n"
          ],
          "name": "stdout"
        }
      ]
    },
    {
      "cell_type": "code",
      "metadata": {
        "id": "09OzPBEMS4rd"
      },
      "source": [
        "dataset = dataset.select([col(c).cast('Integer') for c in dataset.columns])"
      ],
      "execution_count": null,
      "outputs": []
    },
    {
      "cell_type": "code",
      "metadata": {
        "id": "SzNiL6J9TKtW",
        "outputId": "b624f765-4c40-402a-dce2-dabc2697a21a",
        "colab": {
          "base_uri": "https://localhost:8080/"
        }
      },
      "source": [
        "dataset.printSchema()"
      ],
      "execution_count": null,
      "outputs": [
        {
          "output_type": "stream",
          "text": [
            "root\n",
            " |-- id: integer (nullable = true)\n",
            " |-- age: integer (nullable = true)\n",
            " |-- gender: integer (nullable = true)\n",
            " |-- height: integer (nullable = true)\n",
            " |-- weight: integer (nullable = true)\n",
            " |-- ap_hi: integer (nullable = true)\n",
            " |-- ap_lo: integer (nullable = true)\n",
            " |-- cholesterol: integer (nullable = true)\n",
            " |-- gluc: integer (nullable = true)\n",
            " |-- smoke: integer (nullable = true)\n",
            " |-- alco: integer (nullable = true)\n",
            " |-- active: integer (nullable = true)\n",
            " |-- cardio: integer (nullable = true)\n",
            "\n"
          ],
          "name": "stdout"
        }
      ]
    },
    {
      "cell_type": "code",
      "metadata": {
        "id": "84aiI-jrTMLs",
        "outputId": "b0941284-bf43-4dfe-f26e-fe29b252fa96",
        "colab": {
          "base_uri": "https://localhost:8080/"
        }
      },
      "source": [
        "dataset.show()"
      ],
      "execution_count": null,
      "outputs": [
        {
          "output_type": "stream",
          "text": [
            "+---+-----+------+------+------+-----+-----+-----------+----+-----+----+------+------+\n",
            "| id|  age|gender|height|weight|ap_hi|ap_lo|cholesterol|gluc|smoke|alco|active|cardio|\n",
            "+---+-----+------+------+------+-----+-----+-----------+----+-----+----+------+------+\n",
            "|  0|18393|     2|   168|    62|  110|   80|          1|   1|    0|   0|     1|     0|\n",
            "|  1|20228|     1|   156|    85|  140|   90|          3|   1|    0|   0|     1|     1|\n",
            "|  2|18857|     1|   165|    64|  130|   70|          3|   1|    0|   0|     0|     1|\n",
            "|  3|17623|     2|   169|    82|  150|  100|          1|   1|    0|   0|     1|     1|\n",
            "|  4|17474|     1|   156|    56|  100|   60|          1|   1|    0|   0|     0|     0|\n",
            "|  8|21914|     1|   151|    67|  120|   80|          2|   2|    0|   0|     0|     0|\n",
            "|  9|22113|     1|   157|    93|  130|   80|          3|   1|    0|   0|     1|     0|\n",
            "| 12|22584|     2|   178|    95|  130|   90|          3|   3|    0|   0|     1|     1|\n",
            "| 13|17668|     1|   158|    71|  110|   70|          1|   1|    0|   0|     1|     0|\n",
            "| 14|19834|     1|   164|    68|  110|   60|          1|   1|    0|   0|     0|     0|\n",
            "| 15|22530|     1|   169|    80|  120|   80|          1|   1|    0|   0|     1|     0|\n",
            "| 16|18815|     2|   173|    60|  120|   80|          1|   1|    0|   0|     1|     0|\n",
            "| 18|14791|     2|   165|    60|  120|   80|          1|   1|    0|   0|     0|     0|\n",
            "| 21|19809|     1|   158|    78|  110|   70|          1|   1|    0|   0|     1|     0|\n",
            "| 23|14532|     2|   181|    95|  130|   90|          1|   1|    1|   1|     1|     0|\n",
            "| 24|16782|     2|   172|   112|  120|   80|          1|   1|    0|   0|     0|     1|\n",
            "| 25|21296|     1|   170|    75|  130|   70|          1|   1|    0|   0|     0|     0|\n",
            "| 27|16747|     1|   158|    52|  110|   70|          1|   3|    0|   0|     1|     0|\n",
            "| 28|17482|     1|   154|    68|  100|   70|          1|   1|    0|   0|     0|     0|\n",
            "| 29|21755|     2|   162|    56|  120|   70|          1|   1|    1|   0|     1|     0|\n",
            "+---+-----+------+------+------+-----+-----+-----------+----+-----+----+------+------+\n",
            "only showing top 20 rows\n",
            "\n"
          ],
          "name": "stdout"
        }
      ]
    },
    {
      "cell_type": "code",
      "metadata": {
        "id": "C01rTbl3TPpH",
        "outputId": "14b114be-0754-4ca1-fc4b-b4b02250ed81",
        "colab": {
          "base_uri": "https://localhost:8080/"
        }
      },
      "source": [
        "dataset.select([count(when(isnan(c) | col(c).isNull(),c)).alias(c) for c in dataset.columns]).show()"
      ],
      "execution_count": null,
      "outputs": [
        {
          "output_type": "stream",
          "text": [
            "+---+---+------+------+------+-----+-----+-----------+----+-----+----+------+------+\n",
            "| id|age|gender|height|weight|ap_hi|ap_lo|cholesterol|gluc|smoke|alco|active|cardio|\n",
            "+---+---+------+------+------+-----+-----+-----------+----+-----+----+------+------+\n",
            "|  0|  0|     0|     0|     0|    0|    0|          0|   0|    0|   0|     0|     0|\n",
            "+---+---+------+------+------+-----+-----+-----------+----+-----+----+------+------+\n",
            "\n"
          ],
          "name": "stdout"
        }
      ]
    },
    {
      "cell_type": "code",
      "metadata": {
        "id": "QADQEiMsTnT3",
        "outputId": "0733938f-4c66-4d39-b288-a49c41a85ce6",
        "colab": {
          "base_uri": "https://localhost:8080/"
        }
      },
      "source": [
        "dataset.groupBy('cardio').count().show()"
      ],
      "execution_count": null,
      "outputs": [
        {
          "output_type": "stream",
          "text": [
            "+------+-----+\n",
            "|cardio|count|\n",
            "+------+-----+\n",
            "|     1|34979|\n",
            "|     0|35021|\n",
            "+------+-----+\n",
            "\n"
          ],
          "name": "stdout"
        }
      ]
    },
    {
      "cell_type": "code",
      "metadata": {
        "id": "KC2MqG7pVdJs"
      },
      "source": [
        "dataset = dataset.drop(\"id\")"
      ],
      "execution_count": null,
      "outputs": []
    },
    {
      "cell_type": "code",
      "metadata": {
        "id": "9M-KB2naWnB7"
      },
      "source": [
        "dataset = dataset.withColumn(\"age\",round((dataset.age/360)).cast(\"integer\").alias(\"age\"))"
      ],
      "execution_count": null,
      "outputs": []
    },
    {
      "cell_type": "code",
      "metadata": {
        "id": "stemXzAxX9ur",
        "outputId": "646fec0c-f35e-43c3-9bfd-f69b7ff72a43",
        "colab": {
          "base_uri": "https://localhost:8080/"
        }
      },
      "source": [
        "dataset.show()"
      ],
      "execution_count": null,
      "outputs": [
        {
          "output_type": "stream",
          "text": [
            "+---+------+------+------+-----+-----+-----------+----+-----+----+------+------+\n",
            "|age|gender|height|weight|ap_hi|ap_lo|cholesterol|gluc|smoke|alco|active|cardio|\n",
            "+---+------+------+------+-----+-----+-----------+----+-----+----+------+------+\n",
            "| 51|     2|   168|    62|  110|   80|          1|   1|    0|   0|     1|     0|\n",
            "| 56|     1|   156|    85|  140|   90|          3|   1|    0|   0|     1|     1|\n",
            "| 52|     1|   165|    64|  130|   70|          3|   1|    0|   0|     0|     1|\n",
            "| 49|     2|   169|    82|  150|  100|          1|   1|    0|   0|     1|     1|\n",
            "| 49|     1|   156|    56|  100|   60|          1|   1|    0|   0|     0|     0|\n",
            "| 61|     1|   151|    67|  120|   80|          2|   2|    0|   0|     0|     0|\n",
            "| 61|     1|   157|    93|  130|   80|          3|   1|    0|   0|     1|     0|\n",
            "| 63|     2|   178|    95|  130|   90|          3|   3|    0|   0|     1|     1|\n",
            "| 49|     1|   158|    71|  110|   70|          1|   1|    0|   0|     1|     0|\n",
            "| 55|     1|   164|    68|  110|   60|          1|   1|    0|   0|     0|     0|\n",
            "| 63|     1|   169|    80|  120|   80|          1|   1|    0|   0|     1|     0|\n",
            "| 52|     2|   173|    60|  120|   80|          1|   1|    0|   0|     1|     0|\n",
            "| 41|     2|   165|    60|  120|   80|          1|   1|    0|   0|     0|     0|\n",
            "| 55|     1|   158|    78|  110|   70|          1|   1|    0|   0|     1|     0|\n",
            "| 40|     2|   181|    95|  130|   90|          1|   1|    1|   1|     1|     0|\n",
            "| 47|     2|   172|   112|  120|   80|          1|   1|    0|   0|     0|     1|\n",
            "| 59|     1|   170|    75|  130|   70|          1|   1|    0|   0|     0|     0|\n",
            "| 47|     1|   158|    52|  110|   70|          1|   3|    0|   0|     1|     0|\n",
            "| 49|     1|   154|    68|  100|   70|          1|   1|    0|   0|     0|     0|\n",
            "| 60|     2|   162|    56|  120|   70|          1|   1|    1|   0|     1|     0|\n",
            "+---+------+------+------+-----+-----+-----------+----+-----+----+------+------+\n",
            "only showing top 20 rows\n",
            "\n"
          ],
          "name": "stdout"
        }
      ]
    },
    {
      "cell_type": "code",
      "metadata": {
        "id": "aGnIl5F9T8yt"
      },
      "source": [
        "vetor_col = \"corr_features\"\n",
        "ass = VectorAssembler(inputCols=dataset.columns, outputCol=vetor_col)\n",
        "df_vetor = ass.transform(dataset).select(vetor_col)\n",
        "matrix = Correlation.corr(df_vetor, vetor_col)"
      ],
      "execution_count": null,
      "outputs": []
    },
    {
      "cell_type": "code",
      "metadata": {
        "id": "VcKzlauFUD9Q"
      },
      "source": [
        "matrix = matrix.collect()[0][0].values\n",
        "matrix_cor = np.reshape(matrix,(12,12))"
      ],
      "execution_count": null,
      "outputs": []
    },
    {
      "cell_type": "code",
      "metadata": {
        "id": "SEnweB0RV4NS",
        "outputId": "5c32ed65-e62e-4cfd-e359-c32e3d5a52a0",
        "colab": {
          "base_uri": "https://localhost:8080/"
        }
      },
      "source": [
        "dataset.groupby(\"age\").count().sort(\"age\").show()"
      ],
      "execution_count": null,
      "outputs": [
        {
          "output_type": "stream",
          "text": [
            "+---+-----+\n",
            "|age|count|\n",
            "+---+-----+\n",
            "| 30|    4|\n",
            "| 40| 1580|\n",
            "| 41| 1821|\n",
            "| 42| 1635|\n",
            "| 43| 1682|\n",
            "| 44| 1642|\n",
            "| 45| 1905|\n",
            "| 46| 1608|\n",
            "| 47| 2101|\n",
            "| 48| 1538|\n",
            "| 49| 2458|\n",
            "| 50| 2210|\n",
            "| 51| 4377|\n",
            "| 52| 2125|\n",
            "| 53| 4506|\n",
            "| 54| 2209|\n",
            "| 55| 5222|\n",
            "| 56| 2143|\n",
            "| 57| 5327|\n",
            "| 58| 1906|\n",
            "+---+-----+\n",
            "only showing top 20 rows\n",
            "\n"
          ],
          "name": "stdout"
        }
      ]
    },
    {
      "cell_type": "code",
      "metadata": {
        "id": "2KYerQmzVkSH",
        "outputId": "3d02250f-ab23-47da-cff1-c36a4c521a62",
        "colab": {
          "base_uri": "https://localhost:8080/"
        }
      },
      "source": [
        "\n",
        "schema = StructType([\n",
        "    StructField('age', FloatType(), True),\n",
        "    StructField('gender',  FloatType(), True),\n",
        "    StructField('height',  FloatType(), True),\n",
        "    StructField('weight',  FloatType(), True),\n",
        "    StructField('ap_hi',  FloatType(), True),\n",
        "    StructField('ap_lo',  FloatType(), True),\n",
        "    StructField('cholesterol',  FloatType(), True),\n",
        "    StructField('gluc',  FloatType(), True),\n",
        "    StructField('smoke',  FloatType(), True),\n",
        "    StructField('alco',  FloatType(), True),\n",
        "    StructField('active',  FloatType(), True),\n",
        "    StructField('cardio',  FloatType(), True)\n",
        "])\n",
        "\n",
        "rdd = spark.sparkContext.parallelize(matrix_cor.tolist())\n",
        "df_cor = spark.createDataFrame(rdd,schema)\n",
        "df_cor.show()"
      ],
      "execution_count": null,
      "outputs": [
        {
          "output_type": "stream",
          "text": [
            "+------------+------------+------------+-----------+-------------+------------+------------+-------------+-------------+------------+-------------+------------+\n",
            "|         age|      gender|      height|     weight|        ap_hi|       ap_lo| cholesterol|         gluc|        smoke|        alco|       active|      cardio|\n",
            "+------------+------------+------------+-----------+-------------+------------+------------+-------------+-------------+------------+-------------+------------+\n",
            "|         1.0|-0.022684608|-0.081389904|0.053550016|  0.020465912| 0.017431136|  0.15433328|   0.09837528| -0.047555476|-0.029837351| -0.010087403|  0.23765938|\n",
            "|-0.022684608|         1.0|  0.49903342| 0.15541604| 0.0060053086| 0.015253971| -0.03582141| -0.020491036|   0.33813512|  0.17096643| 0.0058656693| 0.008109492|\n",
            "|-0.081389904|  0.49903342|         1.0| 0.29100123| 0.0054877643|0.0061504673| -0.05022595| -0.018594671|    0.1879894|  0.09441869| -0.006569547|-0.010821058|\n",
            "| 0.053550016|  0.15541604|  0.29100123|        1.0|   0.03070158|  0.04370308|  0.14175504|   0.10686375|  0.067751884|  0.06707684|  -0.01686428|  0.18165714|\n",
            "| 0.020465912|0.0060053086|0.0054877643| 0.03070158|          1.0| 0.016085513|  0.02377792|  0.011840678|-9.2202483E-4|0.0014083334|-3.3002485E-5| 0.054475054|\n",
            "| 0.017431136| 0.015253971|0.0061504673| 0.04370308|  0.016085513|         1.0|  0.02401929| 0.0108056655| 0.0051861303|  0.01060124|  0.004780258| 0.065718696|\n",
            "|  0.15433328| -0.03582141| -0.05022595| 0.14175504|   0.02377792|  0.02401929|         1.0|    0.4515775| 0.0103544155| 0.035760384|  0.009911298|  0.22114727|\n",
            "|  0.09837528|-0.020491036|-0.018594671| 0.10686375|  0.011840678|0.0108056655|   0.4515775|          1.0|-0.0047564832|  0.01124577|-0.0067695184|  0.08930689|\n",
            "|-0.047555476|  0.33813512|   0.1879894|0.067751884|-9.2202483E-4|0.0051861303|0.0103544155|-0.0047564832|          1.0|  0.34009376|  0.025857968|-0.015485936|\n",
            "|-0.029837351|  0.17096643|  0.09441869| 0.06707684| 0.0014083334|  0.01060124| 0.035760384|   0.01124577|   0.34009376|         1.0|   0.02547583|-0.007330232|\n",
            "|-0.010087403|0.0058656693|-0.006569547|-0.01686428|-3.3002485E-5| 0.004780258| 0.009911298|-0.0067695184|  0.025857968|  0.02547583|          1.0| -0.03565325|\n",
            "|  0.23765938| 0.008109492|-0.010821058| 0.18165714|  0.054475054| 0.065718696|  0.22114727|   0.08930689| -0.015485936|-0.007330232|  -0.03565325|         1.0|\n",
            "+------------+------------+------------+-----------+-------------+------------+------------+-------------+-------------+------------+-------------+------------+\n",
            "\n"
          ],
          "name": "stdout"
        }
      ]
    },
    {
      "cell_type": "code",
      "metadata": {
        "id": "Wob4hAS5SPf4"
      },
      "source": [
        "dataset = dataset.withColumn(\"label\",dataset[\"cardio\"])\n",
        "dataset = dataset.drop(\"cardio\")\n",
        "x = dataset.drop(\"label\")\n",
        "x = x.drop(\"alco\",'gender')"
      ],
      "execution_count": null,
      "outputs": []
    },
    {
      "cell_type": "code",
      "metadata": {
        "id": "IDZgVocKVm5o"
      },
      "source": [
        "df = VectorAssembler(inputCols=x.columns, outputCol=\"features\")\n",
        "df = df.transform(dataset)"
      ],
      "execution_count": null,
      "outputs": []
    },
    {
      "cell_type": "code",
      "metadata": {
        "id": "htHwDSgGSLqd",
        "outputId": "79be7803-6120-4c1a-e264-66dd05018506",
        "colab": {
          "base_uri": "https://localhost:8080/"
        }
      },
      "source": [
        "df.show()"
      ],
      "execution_count": null,
      "outputs": [
        {
          "output_type": "stream",
          "text": [
            "+---+------+------+------+-----+-----+-----------+----+-----+----+------+-----+--------------------+\n",
            "|age|gender|height|weight|ap_hi|ap_lo|cholesterol|gluc|smoke|alco|active|label|            features|\n",
            "+---+------+------+------+-----+-----+-----------+----+-----+----+------+-----+--------------------+\n",
            "| 51|     2|   168|    62|  110|   80|          1|   1|    0|   0|     1|    0|[51.0,168.0,62.0,...|\n",
            "| 56|     1|   156|    85|  140|   90|          3|   1|    0|   0|     1|    1|[56.0,156.0,85.0,...|\n",
            "| 52|     1|   165|    64|  130|   70|          3|   1|    0|   0|     0|    1|[52.0,165.0,64.0,...|\n",
            "| 49|     2|   169|    82|  150|  100|          1|   1|    0|   0|     1|    1|[49.0,169.0,82.0,...|\n",
            "| 49|     1|   156|    56|  100|   60|          1|   1|    0|   0|     0|    0|[49.0,156.0,56.0,...|\n",
            "| 61|     1|   151|    67|  120|   80|          2|   2|    0|   0|     0|    0|[61.0,151.0,67.0,...|\n",
            "| 61|     1|   157|    93|  130|   80|          3|   1|    0|   0|     1|    0|[61.0,157.0,93.0,...|\n",
            "| 63|     2|   178|    95|  130|   90|          3|   3|    0|   0|     1|    1|[63.0,178.0,95.0,...|\n",
            "| 49|     1|   158|    71|  110|   70|          1|   1|    0|   0|     1|    0|[49.0,158.0,71.0,...|\n",
            "| 55|     1|   164|    68|  110|   60|          1|   1|    0|   0|     0|    0|[55.0,164.0,68.0,...|\n",
            "| 63|     1|   169|    80|  120|   80|          1|   1|    0|   0|     1|    0|[63.0,169.0,80.0,...|\n",
            "| 52|     2|   173|    60|  120|   80|          1|   1|    0|   0|     1|    0|[52.0,173.0,60.0,...|\n",
            "| 41|     2|   165|    60|  120|   80|          1|   1|    0|   0|     0|    0|[41.0,165.0,60.0,...|\n",
            "| 55|     1|   158|    78|  110|   70|          1|   1|    0|   0|     1|    0|[55.0,158.0,78.0,...|\n",
            "| 40|     2|   181|    95|  130|   90|          1|   1|    1|   1|     1|    0|[40.0,181.0,95.0,...|\n",
            "| 47|     2|   172|   112|  120|   80|          1|   1|    0|   0|     0|    1|[47.0,172.0,112.0...|\n",
            "| 59|     1|   170|    75|  130|   70|          1|   1|    0|   0|     0|    0|[59.0,170.0,75.0,...|\n",
            "| 47|     1|   158|    52|  110|   70|          1|   3|    0|   0|     1|    0|[47.0,158.0,52.0,...|\n",
            "| 49|     1|   154|    68|  100|   70|          1|   1|    0|   0|     0|    0|[49.0,154.0,68.0,...|\n",
            "| 60|     2|   162|    56|  120|   70|          1|   1|    1|   0|     1|    0|[60.0,162.0,56.0,...|\n",
            "+---+------+------+------+-----+-----+-----------+----+-----+----+------+-----+--------------------+\n",
            "only showing top 20 rows\n",
            "\n"
          ],
          "name": "stdout"
        }
      ]
    },
    {
      "cell_type": "code",
      "metadata": {
        "id": "19A7TR4oSM4d"
      },
      "source": [
        "featureScaler = MinMaxScaler(inputCol=\"features\", outputCol=\"scaledFeatures\").fit(df)"
      ],
      "execution_count": null,
      "outputs": []
    },
    {
      "cell_type": "code",
      "metadata": {
        "id": "xBWX49EcS1cF"
      },
      "source": [
        "(treino, teste) = df.randomSplit([0.7, 0.3])"
      ],
      "execution_count": null,
      "outputs": []
    },
    {
      "cell_type": "code",
      "metadata": {
        "id": "IVMDPFAYTPi9"
      },
      "source": [
        "gbt = GBTClassifier(labelCol=\"label\",maxIter=10)"
      ],
      "execution_count": null,
      "outputs": []
    },
    {
      "cell_type": "code",
      "metadata": {
        "id": "Kr9aOWhxTeqC"
      },
      "source": [
        "pipeline = Pipeline(stages=[ gbt])"
      ],
      "execution_count": null,
      "outputs": []
    },
    {
      "cell_type": "code",
      "metadata": {
        "id": "2id3pkSMTn6l"
      },
      "source": [
        "modelo = pipeline.fit(treino)\n",
        "\n",
        "pred = modelo.transform(teste)"
      ],
      "execution_count": null,
      "outputs": []
    },
    {
      "cell_type": "code",
      "metadata": {
        "id": "8DnAZSmlUoRQ",
        "outputId": "1a9bcae5-0f29-4031-f47d-cae316557ef1",
        "colab": {
          "base_uri": "https://localhost:8080/"
        }
      },
      "source": [
        "pred.show()"
      ],
      "execution_count": null,
      "outputs": [
        {
          "output_type": "stream",
          "text": [
            "+---+------+------+------+-----+-----+-----------+----+-----+----+------+-----+--------------------+--------------------+--------------------+----------+\n",
            "|age|gender|height|weight|ap_hi|ap_lo|cholesterol|gluc|smoke|alco|active|label|            features|       rawPrediction|         probability|prediction|\n",
            "+---+------+------+------+-----+-----+-----------+----+-----+----+------+-----+--------------------+--------------------+--------------------+----------+\n",
            "| 40|     1|   120|    80|  120|   80|          1|   1|    0|   0|     0|    1|[40.0,120.0,80.0,...|[0.90632470176242...|[0.85968177387943...|       0.0|\n",
            "| 40|     1|   142|    57|  110|   80|          1|   3|    0|   0|     0|    0|[40.0,142.0,57.0,...|[0.86379758062109...|[0.84910455647505...|       0.0|\n",
            "| 40|     1|   150|    55|  110|   70|          1|   1|    0|   0|     1|    0|[40.0,150.0,55.0,...|[1.01327058071754...|[0.88355568704060...|       0.0|\n",
            "| 40|     1|   150|    60|  110|   70|          1|   1|    0|   0|     1|    0|[40.0,150.0,60.0,...|[0.95606553927082...|[0.87125837418925...|       0.0|\n",
            "| 40|     1|   150|    61|   90|   60|          1|   1|    0|   0|     1|    0|[40.0,150.0,61.0,...|[1.00664128526827...|[0.88218462412341...|       0.0|\n",
            "| 40|     1|   150|    65|  120|   60|          1|   1|    0|   0|     1|    0|[40.0,150.0,65.0,...|[0.89322345960210...|[0.85649110575275...|       0.0|\n",
            "| 40|     1|   150|    85|  140|   90|          1|   1|    0|   0|     1|    0|[40.0,150.0,85.0,...|[-0.7414266624841...|[0.18499682819664...|       1.0|\n",
            "| 40|     1|   151|    40|  110|   80|          1|   1|    0|   0|     1|    0|[40.0,151.0,40.0,...|[0.96188138398986...|[0.87255744395249...|       0.0|\n",
            "| 40|     1|   151|    50|  110|   70|          1|   1|    0|   0|     1|    0|[40.0,151.0,50.0,...|[1.01327058071754...|[0.88355568704060...|       0.0|\n",
            "| 40|     1|   151|    71|  120|   80|          1|   1|    0|   0|     1|    1|[40.0,151.0,71.0,...|[0.86741857463597...|[0.85003009948284...|       0.0|\n",
            "| 40|     1|   152|    54|  120|   80|          2|   1|    0|   0|     0|    0|[40.0,152.0,54.0,...|[0.52164886995997...|[0.73948580585288...|       0.0|\n",
            "| 40|     1|   152|    54|  135|   89|          3|   2|    0|   0|     1|    1|[40.0,152.0,54.0,...|[-0.5734488868336...|[0.24105617344789...|       1.0|\n",
            "| 40|     1|   152|    67|  100|   70|          1|   1|    0|   0|     1|    0|[40.0,152.0,67.0,...|[1.00664128526827...|[0.88218462412341...|       0.0|\n",
            "| 40|     1|   152|    72|  110|   70|          1|   1|    0|   0|     1|    0|[40.0,152.0,72.0,...|[0.94448977516700...|[0.86863913575614...|       0.0|\n",
            "| 40|     1|   152|    72|  110|   70|          1|   2|    0|   0|     1|    1|[40.0,152.0,72.0,...|[0.83508277306100...|[0.84159789150236...|       0.0|\n",
            "| 40|     1|   152|    90|  160|  100|          2|   2|    0|   0|     1|    1|[40.0,152.0,90.0,...|[-0.8083762764157...|[0.16565321990740...|       1.0|\n",
            "| 40|     1|   153|    48|  100|   60|          1|   1|    0|   0|     1|    0|[40.0,153.0,48.0,...|[1.08293519884805...|[0.89714252035181...|       0.0|\n",
            "| 40|     1|   153|    52|  120|   80|          1|   1|    0|   0|     1|    0|[40.0,153.0,52.0,...|[0.86741857463597...|[0.85003009948284...|       0.0|\n",
            "| 40|     1|   153|    64|  110|   80|          1|   1|    0|   0|     1|    0|[40.0,153.0,64.0,...|[0.93026065430469...|[0.86535769923934...|       0.0|\n",
            "| 40|     1|   153|    82|  120|   80|          1|   1|    0|   0|     1|    0|[40.0,153.0,82.0,...|[0.88286987898219...|[0.85392706794015...|       0.0|\n",
            "+---+------+------+------+-----+-----+-----------+----+-----+----+------+-----+--------------------+--------------------+--------------------+----------+\n",
            "only showing top 20 rows\n",
            "\n"
          ],
          "name": "stdout"
        }
      ]
    },
    {
      "cell_type": "code",
      "metadata": {
        "id": "FeBD99QLTxM4",
        "outputId": "6f579e80-f4c8-493f-c4bb-5bc492c217ce",
        "colab": {
          "base_uri": "https://localhost:8080/"
        }
      },
      "source": [
        "pred.select(\"rawPrediction\",\"prediction\", \"label\", \"features\").show(15)\n",
        "\n",
        "\n",
        "evaluator = MulticlassClassificationEvaluator(predictionCol=\"prediction\",labelCol=\"label\")\n",
        "accuracy = evaluator.evaluate(pred,{evaluator.metricName: \"accuracy\"})\n",
        "f1 = evaluator.evaluate(pred,{evaluator.metricName: \"f1\"})\n",
        "print(accuracy)\n",
        "print(f1)\n",
        "\n",
        "\n"
      ],
      "execution_count": null,
      "outputs": [
        {
          "output_type": "stream",
          "text": [
            "+--------------------+----------+-----+--------------------+\n",
            "|       rawPrediction|prediction|label|            features|\n",
            "+--------------------+----------+-----+--------------------+\n",
            "|[0.90632470176242...|       0.0|    1|[40.0,120.0,80.0,...|\n",
            "|[0.86379758062109...|       0.0|    0|[40.0,142.0,57.0,...|\n",
            "|[1.01327058071754...|       0.0|    0|[40.0,150.0,55.0,...|\n",
            "|[0.95606553927082...|       0.0|    0|[40.0,150.0,60.0,...|\n",
            "|[1.00664128526827...|       0.0|    0|[40.0,150.0,61.0,...|\n",
            "|[0.89322345960210...|       0.0|    0|[40.0,150.0,65.0,...|\n",
            "|[-0.7414266624841...|       1.0|    0|[40.0,150.0,85.0,...|\n",
            "|[0.96188138398986...|       0.0|    0|[40.0,151.0,40.0,...|\n",
            "|[1.01327058071754...|       0.0|    0|[40.0,151.0,50.0,...|\n",
            "|[0.86741857463597...|       0.0|    1|[40.0,151.0,71.0,...|\n",
            "|[0.52164886995997...|       0.0|    0|[40.0,152.0,54.0,...|\n",
            "|[-0.5734488868336...|       1.0|    1|[40.0,152.0,54.0,...|\n",
            "|[1.00664128526827...|       0.0|    0|[40.0,152.0,67.0,...|\n",
            "|[0.94448977516700...|       0.0|    0|[40.0,152.0,72.0,...|\n",
            "|[0.83508277306100...|       0.0|    1|[40.0,152.0,72.0,...|\n",
            "+--------------------+----------+-----+--------------------+\n",
            "only showing top 15 rows\n",
            "\n",
            "0.7342507499642874\n",
            "0.7332481734219365\n"
          ],
          "name": "stdout"
        }
      ]
    },
    {
      "cell_type": "code",
      "metadata": {
        "id": "ChKIIX_SUU_1",
        "outputId": "c1ee67a4-1da1-45dd-9a7c-a49e11c4ca60",
        "colab": {
          "base_uri": "https://localhost:8080/"
        }
      },
      "source": [
        "df.groupby(\"label\").count().show()"
      ],
      "execution_count": null,
      "outputs": [
        {
          "output_type": "stream",
          "text": [
            "+-----+-----+\n",
            "|label|count|\n",
            "+-----+-----+\n",
            "|    1|34979|\n",
            "|    0|35021|\n",
            "+-----+-----+\n",
            "\n"
          ],
          "name": "stdout"
        }
      ]
    },
    {
      "cell_type": "code",
      "metadata": {
        "id": "C_O0aNWqgAnn",
        "outputId": "ce0f72af-4880-4f3f-e77e-8a8f7cb95e6b",
        "colab": {
          "base_uri": "https://localhost:8080/"
        }
      },
      "source": [
        "from pyspark.ml.tuning import ParamGridBuilder, CrossValidator\n",
        "\n",
        "paramGrid = (ParamGridBuilder()\n",
        "             .addGrid(gbt.maxDepth, [2, 4, 6,8,10])\n",
        "             .addGrid(gbt.maxBins, [20,30,40, 50,60])\n",
        "             .addGrid(gbt.maxIter, [5,10, 20,30])\n",
        "             .build())\n",
        "gbtEval = BinaryClassificationEvaluator()\n",
        "cv = CrossValidator(estimator=gbt, estimatorParamMaps=paramGrid, evaluator=gbtEval, numFolds=5)\n",
        "\n",
        "cvModel = cv.fit(treino)\n",
        "cvPreds = cvModel.transform(teste)\n",
        "gbtEval.evaluate(cvPreds)"
      ],
      "execution_count": null,
      "outputs": [
        {
          "output_type": "execute_result",
          "data": {
            "text/plain": [
              "0.8025732025988123"
            ]
          },
          "metadata": {
            "tags": []
          },
          "execution_count": 304
        }
      ]
    },
    {
      "cell_type": "code",
      "metadata": {
        "id": "GWs-xy4Og-TQ"
      },
      "source": [
        ""
      ],
      "execution_count": null,
      "outputs": []
    }
  ]
}