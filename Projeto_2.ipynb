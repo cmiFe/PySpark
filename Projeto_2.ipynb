{
  "nbformat": 4,
  "nbformat_minor": 0,
  "metadata": {
    "colab": {
      "name": "Projeto_2.ipynb",
      "provenance": []
    },
    "kernelspec": {
      "name": "python3",
      "display_name": "Python 3"
    }
  },
  "cells": [
    {
      "cell_type": "code",
      "metadata": {
        "id": "CY8vIlq2j7tu",
        "outputId": "4129e63a-bbc1-4d38-a675-d5630224df37",
        "colab": {
          "base_uri": "https://localhost:8080/",
          "height": 102
        }
      },
      "source": [
        "!apt-get install openjdk-8-jdk-headless -qq > /dev/null\n",
        "!wget -q http://www-eu.apache.org/dist/spark/spark-2.4.1/spark-2.4.1-bin-hadoop2.7.tgz\n",
        "!tar xf spark-2.4.1-bin-hadoop2.7.tgz\n",
        "!pip install -q findspark\n",
        "!pip install -q pyspark"
      ],
      "execution_count": null,
      "outputs": [
        {
          "output_type": "stream",
          "text": [
            "tar: spark-2.4.1-bin-hadoop2.7.tgz: Cannot open: No such file or directory\n",
            "tar: Error is not recoverable: exiting now\n",
            "\u001b[K     |████████████████████████████████| 204.2MB 56kB/s \n",
            "\u001b[K     |████████████████████████████████| 204kB 46.1MB/s \n",
            "\u001b[?25h  Building wheel for pyspark (setup.py) ... \u001b[?25l\u001b[?25hdone\n"
          ],
          "name": "stdout"
        }
      ]
    },
    {
      "cell_type": "code",
      "metadata": {
        "id": "MBTuOWwGmLoV"
      },
      "source": [
        "import pyspark\n",
        "from pyspark.sql import SparkSession\n",
        "from pyspark.sql.functions import isnan, when, count, col,lit,regexp_replace,expr\n",
        "from pyspark.sql.types import  StructField, StructType, StringType, IntegerType,FloatType\n",
        "from pyspark.ml.stat import Correlation\n",
        "from pyspark.ml.feature import VectorAssembler,MinMaxScaler\n",
        "import numpy as np\n",
        "from pyspark.ml import Pipeline\n",
        "from pyspark.ml.regression import GBTRegressor\n",
        "from pyspark.ml.evaluation import RegressionEvaluator"
      ],
      "execution_count": null,
      "outputs": []
    },
    {
      "cell_type": "code",
      "metadata": {
        "id": "n9kad2yjmvNC"
      },
      "source": [
        "spark = SparkSession.builder.appName(\"Modelo de Regreção\").getOrCreate()\n",
        "dataset = spark.read.csv(\"sample_data/houses_to_rent.csv\",header=True)\n"
      ],
      "execution_count": null,
      "outputs": []
    },
    {
      "cell_type": "code",
      "metadata": {
        "id": "nlikaVYGngOV",
        "outputId": "26fe0a29-ba9b-47cd-c257-b3f1e207d35c",
        "colab": {
          "base_uri": "https://localhost:8080/",
          "height": 479
        }
      },
      "source": [
        "dataset.show()"
      ],
      "execution_count": null,
      "outputs": [
        {
          "output_type": "stream",
          "text": [
            "+---+----+----+-----+--------+--------------+-----+---------+-------------+-------+-----------+------------+--------------+--------+\n",
            "|_c0|city|area|rooms|bathroom|parking spaces|floor|   animal|    furniture|    hoa|rent amount|property tax|fire insurance|   total|\n",
            "+---+----+----+-----+--------+--------------+-----+---------+-------------+-------+-----------+------------+--------------+--------+\n",
            "|  0|   1| 240|    3|       3|             4|    -|    acept|    furnished|    R$0|    R$8,000|     R$1,000|         R$121| R$9,121|\n",
            "|  1|   0|  64|    2|       1|             1|   10|    acept|not furnished|  R$540|      R$820|       R$122|          R$11| R$1,493|\n",
            "|  2|   1| 443|    5|       5|             4|    3|    acept|    furnished|R$4,172|    R$7,000|     R$1,417|          R$89|R$12,680|\n",
            "|  3|   1|  73|    2|       2|             1|   12|    acept|not furnished|  R$700|    R$1,250|       R$150|          R$16| R$2,116|\n",
            "|  4|   1|  19|    1|       1|             0|    -|not acept|not furnished|    R$0|    R$1,200|        R$41|          R$16| R$1,257|\n",
            "|  5|   1|  13|    1|       1|             0|    2|    acept|not furnished|    R$0|    R$2,200|        R$42|          R$28| R$2,270|\n",
            "|  6|   1|  55|    1|       1|             1|    2|    acept|    furnished|R$1,950|    R$5,000|       R$375|          R$64| R$7,389|\n",
            "|  7|   1|  55|    2|       2|             1|    2|    acept|not furnished|  R$600|    R$1,300|        R$67|          R$17| R$1,984|\n",
            "|  8|   1|  82|    3|       1|             1|    3|    acept|    furnished|  R$828|    R$2,000|       R$109|          R$26| R$2,963|\n",
            "|  9|   1|  32|    1|       1|             1|   16|    acept|not furnished|  R$533|    R$2,900|         R$0|          R$37| R$3,470|\n",
            "| 10|   0|  60|    1|       1|             0|    6|    acept|not furnished|  R$480|      R$720|        R$20|          R$10| R$1,230|\n",
            "| 11|   0|  64|    1|       2|             1|    4|    acept|    furnished|  R$406|    R$1,550|         R$0|           R$7| R$1,963|\n",
            "| 12|   1|  20|    1|       1|             0|    4|    acept|    furnished|  R$602|    R$1,800|       R$130|          R$23| R$2,555|\n",
            "| 13|   1| 375|    4|       5|             5|    1|    acept|not furnished|R$4,793|   R$15,000|     R$2,805|         R$191|R$22,790|\n",
            "| 14|   1|  92|    2|       1|             1|    7|not acept|    furnished|  R$690|    R$3,950|         R$0|          R$51| R$4,691|\n",
            "| 15|   0|  56|    2|       1|             1|    1|    acept|not furnished|  R$345|      R$950|        R$11|          R$13| R$1,319|\n",
            "| 16|   0| 188|    2|       3|             8|    -|    acept|not furnished|    R$0|    R$3,010|       R$584|          R$46| R$3,640|\n",
            "| 17|   1| 100|    3|       2|             1|    -|    acept|not furnished|    R$0|    R$3,500|       R$260|          R$53| R$3,813|\n",
            "| 18|   1| 192|    3|       3|             2|   13|    acept|not furnished|R$2,100|    R$7,800|       R$634|          R$99|R$10,630|\n",
            "| 19|   1|  93|    3|       2|             1|   10|    acept|not furnished|R$1,497|    R$3,500|       R$227|          R$45| R$5,269|\n",
            "+---+----+----+-----+--------+--------------+-----+---------+-------------+-------+-----------+------------+--------------+--------+\n",
            "only showing top 20 rows\n",
            "\n"
          ],
          "name": "stdout"
        }
      ]
    },
    {
      "cell_type": "code",
      "metadata": {
        "id": "mkYrA--fnjfl",
        "outputId": "d6fbb54e-2f26-4876-c3ad-8dfa6481e6ea",
        "colab": {
          "base_uri": "https://localhost:8080/",
          "height": 289
        }
      },
      "source": [
        "dataset.printSchema()"
      ],
      "execution_count": null,
      "outputs": [
        {
          "output_type": "stream",
          "text": [
            "root\n",
            " |-- _c0: string (nullable = true)\n",
            " |-- city: string (nullable = true)\n",
            " |-- area: string (nullable = true)\n",
            " |-- rooms: string (nullable = true)\n",
            " |-- bathroom: string (nullable = true)\n",
            " |-- parking spaces: string (nullable = true)\n",
            " |-- floor: string (nullable = true)\n",
            " |-- animal: string (nullable = true)\n",
            " |-- furniture: string (nullable = true)\n",
            " |-- hoa: string (nullable = true)\n",
            " |-- rent amount: string (nullable = true)\n",
            " |-- property tax: string (nullable = true)\n",
            " |-- fire insurance: string (nullable = true)\n",
            " |-- total: string (nullable = true)\n",
            "\n"
          ],
          "name": "stdout"
        }
      ]
    },
    {
      "cell_type": "code",
      "metadata": {
        "id": "X0bqGW76oUSg"
      },
      "source": [
        "dataset = dataset.withColumnRenamed(\"_c0\",\"ID\")"
      ],
      "execution_count": null,
      "outputs": []
    },
    {
      "cell_type": "code",
      "metadata": {
        "id": "tkACP3gCovFu",
        "outputId": "f087d57c-0d72-49ac-eb6a-65ec51fe1b44",
        "colab": {
          "base_uri": "https://localhost:8080/",
          "height": 479
        }
      },
      "source": [
        "dataset.show()"
      ],
      "execution_count": null,
      "outputs": [
        {
          "output_type": "stream",
          "text": [
            "+---+----+----+-----+--------+--------------+-----+---------+-------------+-------+-----------+------------+--------------+--------+\n",
            "| ID|city|area|rooms|bathroom|parking spaces|floor|   animal|    furniture|    hoa|rent amount|property tax|fire insurance|   total|\n",
            "+---+----+----+-----+--------+--------------+-----+---------+-------------+-------+-----------+------------+--------------+--------+\n",
            "|  0|   1| 240|    3|       3|             4|    -|    acept|    furnished|    R$0|    R$8,000|     R$1,000|         R$121| R$9,121|\n",
            "|  1|   0|  64|    2|       1|             1|   10|    acept|not furnished|  R$540|      R$820|       R$122|          R$11| R$1,493|\n",
            "|  2|   1| 443|    5|       5|             4|    3|    acept|    furnished|R$4,172|    R$7,000|     R$1,417|          R$89|R$12,680|\n",
            "|  3|   1|  73|    2|       2|             1|   12|    acept|not furnished|  R$700|    R$1,250|       R$150|          R$16| R$2,116|\n",
            "|  4|   1|  19|    1|       1|             0|    -|not acept|not furnished|    R$0|    R$1,200|        R$41|          R$16| R$1,257|\n",
            "|  5|   1|  13|    1|       1|             0|    2|    acept|not furnished|    R$0|    R$2,200|        R$42|          R$28| R$2,270|\n",
            "|  6|   1|  55|    1|       1|             1|    2|    acept|    furnished|R$1,950|    R$5,000|       R$375|          R$64| R$7,389|\n",
            "|  7|   1|  55|    2|       2|             1|    2|    acept|not furnished|  R$600|    R$1,300|        R$67|          R$17| R$1,984|\n",
            "|  8|   1|  82|    3|       1|             1|    3|    acept|    furnished|  R$828|    R$2,000|       R$109|          R$26| R$2,963|\n",
            "|  9|   1|  32|    1|       1|             1|   16|    acept|not furnished|  R$533|    R$2,900|         R$0|          R$37| R$3,470|\n",
            "| 10|   0|  60|    1|       1|             0|    6|    acept|not furnished|  R$480|      R$720|        R$20|          R$10| R$1,230|\n",
            "| 11|   0|  64|    1|       2|             1|    4|    acept|    furnished|  R$406|    R$1,550|         R$0|           R$7| R$1,963|\n",
            "| 12|   1|  20|    1|       1|             0|    4|    acept|    furnished|  R$602|    R$1,800|       R$130|          R$23| R$2,555|\n",
            "| 13|   1| 375|    4|       5|             5|    1|    acept|not furnished|R$4,793|   R$15,000|     R$2,805|         R$191|R$22,790|\n",
            "| 14|   1|  92|    2|       1|             1|    7|not acept|    furnished|  R$690|    R$3,950|         R$0|          R$51| R$4,691|\n",
            "| 15|   0|  56|    2|       1|             1|    1|    acept|not furnished|  R$345|      R$950|        R$11|          R$13| R$1,319|\n",
            "| 16|   0| 188|    2|       3|             8|    -|    acept|not furnished|    R$0|    R$3,010|       R$584|          R$46| R$3,640|\n",
            "| 17|   1| 100|    3|       2|             1|    -|    acept|not furnished|    R$0|    R$3,500|       R$260|          R$53| R$3,813|\n",
            "| 18|   1| 192|    3|       3|             2|   13|    acept|not furnished|R$2,100|    R$7,800|       R$634|          R$99|R$10,630|\n",
            "| 19|   1|  93|    3|       2|             1|   10|    acept|not furnished|R$1,497|    R$3,500|       R$227|          R$45| R$5,269|\n",
            "+---+----+----+-----+--------+--------------+-----+---------+-------------+-------+-----------+------------+--------------+--------+\n",
            "only showing top 20 rows\n",
            "\n"
          ],
          "name": "stdout"
        }
      ]
    },
    {
      "cell_type": "code",
      "metadata": {
        "id": "znLRA8zRow2g",
        "outputId": "d7a79902-be05-40ce-97a8-05d435d40907",
        "colab": {
          "base_uri": "https://localhost:8080/",
          "height": 479
        }
      },
      "source": [
        "dataset.withColumn(\"hoa\",regexp_replace(col(\"hoa\"),\"R\\$\",\"\")).show()"
      ],
      "execution_count": null,
      "outputs": [
        {
          "output_type": "stream",
          "text": [
            "+---+----+----+-----+--------+--------------+-----+---------+-------------+-----+-----------+------------+--------------+--------+\n",
            "| ID|city|area|rooms|bathroom|parking spaces|floor|   animal|    furniture|  hoa|rent amount|property tax|fire insurance|   total|\n",
            "+---+----+----+-----+--------+--------------+-----+---------+-------------+-----+-----------+------------+--------------+--------+\n",
            "|  0|   1| 240|    3|       3|             4|    -|    acept|    furnished|    0|    R$8,000|     R$1,000|         R$121| R$9,121|\n",
            "|  1|   0|  64|    2|       1|             1|   10|    acept|not furnished|  540|      R$820|       R$122|          R$11| R$1,493|\n",
            "|  2|   1| 443|    5|       5|             4|    3|    acept|    furnished|4,172|    R$7,000|     R$1,417|          R$89|R$12,680|\n",
            "|  3|   1|  73|    2|       2|             1|   12|    acept|not furnished|  700|    R$1,250|       R$150|          R$16| R$2,116|\n",
            "|  4|   1|  19|    1|       1|             0|    -|not acept|not furnished|    0|    R$1,200|        R$41|          R$16| R$1,257|\n",
            "|  5|   1|  13|    1|       1|             0|    2|    acept|not furnished|    0|    R$2,200|        R$42|          R$28| R$2,270|\n",
            "|  6|   1|  55|    1|       1|             1|    2|    acept|    furnished|1,950|    R$5,000|       R$375|          R$64| R$7,389|\n",
            "|  7|   1|  55|    2|       2|             1|    2|    acept|not furnished|  600|    R$1,300|        R$67|          R$17| R$1,984|\n",
            "|  8|   1|  82|    3|       1|             1|    3|    acept|    furnished|  828|    R$2,000|       R$109|          R$26| R$2,963|\n",
            "|  9|   1|  32|    1|       1|             1|   16|    acept|not furnished|  533|    R$2,900|         R$0|          R$37| R$3,470|\n",
            "| 10|   0|  60|    1|       1|             0|    6|    acept|not furnished|  480|      R$720|        R$20|          R$10| R$1,230|\n",
            "| 11|   0|  64|    1|       2|             1|    4|    acept|    furnished|  406|    R$1,550|         R$0|           R$7| R$1,963|\n",
            "| 12|   1|  20|    1|       1|             0|    4|    acept|    furnished|  602|    R$1,800|       R$130|          R$23| R$2,555|\n",
            "| 13|   1| 375|    4|       5|             5|    1|    acept|not furnished|4,793|   R$15,000|     R$2,805|         R$191|R$22,790|\n",
            "| 14|   1|  92|    2|       1|             1|    7|not acept|    furnished|  690|    R$3,950|         R$0|          R$51| R$4,691|\n",
            "| 15|   0|  56|    2|       1|             1|    1|    acept|not furnished|  345|      R$950|        R$11|          R$13| R$1,319|\n",
            "| 16|   0| 188|    2|       3|             8|    -|    acept|not furnished|    0|    R$3,010|       R$584|          R$46| R$3,640|\n",
            "| 17|   1| 100|    3|       2|             1|    -|    acept|not furnished|    0|    R$3,500|       R$260|          R$53| R$3,813|\n",
            "| 18|   1| 192|    3|       3|             2|   13|    acept|not furnished|2,100|    R$7,800|       R$634|          R$99|R$10,630|\n",
            "| 19|   1|  93|    3|       2|             1|   10|    acept|not furnished|1,497|    R$3,500|       R$227|          R$45| R$5,269|\n",
            "+---+----+----+-----+--------+--------------+-----+---------+-------------+-----+-----------+------------+--------------+--------+\n",
            "only showing top 20 rows\n",
            "\n"
          ],
          "name": "stdout"
        }
      ]
    },
    {
      "cell_type": "code",
      "metadata": {
        "id": "DjyzsvRWpkMV"
      },
      "source": [
        "dataset = dataset.select([regexp_replace(col(c),\"R\\$\",\"\").alias(c) for c in dataset.columns])\n",
        "dataset = dataset.select([regexp_replace(col(c),\",\",\"\").alias(c) for c in dataset.columns])\n",
        "dataset = dataset.select([regexp_replace(col(c),\"not acept\",\"0\").alias(c) for c in dataset.columns])\n",
        "dataset = dataset.select([regexp_replace(col(c),\"acept\",\"1\").alias(c) for c in dataset.columns])\n",
        "dataset = dataset.withColumn(\"furniture\",regexp_replace(col(\"furniture\"),\"not furnished\",\"0\"))\n",
        "dataset = dataset.withColumn(\"furniture\",regexp_replace(col(\"furniture\"),\"furnished\",\"1\"))"
      ],
      "execution_count": null,
      "outputs": []
    },
    {
      "cell_type": "code",
      "metadata": {
        "id": "lIzF0f0QuDhP",
        "outputId": "e2810ac6-a9f9-4867-e42d-cc3b2bbcbc48",
        "colab": {
          "base_uri": "https://localhost:8080/",
          "height": 459
        }
      },
      "source": [
        "dataset.show()"
      ],
      "execution_count": null,
      "outputs": [
        {
          "output_type": "stream",
          "text": [
            "+---+----+----+-----+--------+--------------+-----+------+---------+----+-----------+------------+--------------+-----+\n",
            "| ID|city|area|rooms|bathroom|parking spaces|floor|animal|furniture| hoa|rent amount|property tax|fire insurance|total|\n",
            "+---+----+----+-----+--------+--------------+-----+------+---------+----+-----------+------------+--------------+-----+\n",
            "|  0|   1| 240|    3|       3|             4|    -|     1|        1|   0|       8000|        1000|           121| 9121|\n",
            "|  1|   0|  64|    2|       1|             1|   10|     1|        0| 540|        820|         122|            11| 1493|\n",
            "|  2|   1| 443|    5|       5|             4|    3|     1|        1|4172|       7000|        1417|            89|12680|\n",
            "|  3|   1|  73|    2|       2|             1|   12|     1|        0| 700|       1250|         150|            16| 2116|\n",
            "|  4|   1|  19|    1|       1|             0|    -|     0|        0|   0|       1200|          41|            16| 1257|\n",
            "|  5|   1|  13|    1|       1|             0|    2|     1|        0|   0|       2200|          42|            28| 2270|\n",
            "|  6|   1|  55|    1|       1|             1|    2|     1|        1|1950|       5000|         375|            64| 7389|\n",
            "|  7|   1|  55|    2|       2|             1|    2|     1|        0| 600|       1300|          67|            17| 1984|\n",
            "|  8|   1|  82|    3|       1|             1|    3|     1|        1| 828|       2000|         109|            26| 2963|\n",
            "|  9|   1|  32|    1|       1|             1|   16|     1|        0| 533|       2900|           0|            37| 3470|\n",
            "| 10|   0|  60|    1|       1|             0|    6|     1|        0| 480|        720|          20|            10| 1230|\n",
            "| 11|   0|  64|    1|       2|             1|    4|     1|        1| 406|       1550|           0|             7| 1963|\n",
            "| 12|   1|  20|    1|       1|             0|    4|     1|        1| 602|       1800|         130|            23| 2555|\n",
            "| 13|   1| 375|    4|       5|             5|    1|     1|        0|4793|      15000|        2805|           191|22790|\n",
            "| 14|   1|  92|    2|       1|             1|    7|     0|        1| 690|       3950|           0|            51| 4691|\n",
            "| 15|   0|  56|    2|       1|             1|    1|     1|        0| 345|        950|          11|            13| 1319|\n",
            "| 16|   0| 188|    2|       3|             8|    -|     1|        0|   0|       3010|         584|            46| 3640|\n",
            "| 17|   1| 100|    3|       2|             1|    -|     1|        0|   0|       3500|         260|            53| 3813|\n",
            "| 18|   1| 192|    3|       3|             2|   13|     1|        0|2100|       7800|         634|            99|10630|\n",
            "| 19|   1|  93|    3|       2|             1|   10|     1|        0|1497|       3500|         227|            45| 5269|\n",
            "+---+----+----+-----+--------+--------------+-----+------+---------+----+-----------+------------+--------------+-----+\n",
            "only showing top 20 rows\n",
            "\n"
          ],
          "name": "stdout"
        }
      ]
    },
    {
      "cell_type": "code",
      "metadata": {
        "id": "v_PzjxxZsnWu",
        "outputId": "a539ff35-f01e-4cbd-dc98-b515bbeb0a15",
        "colab": {
          "base_uri": "https://localhost:8080/",
          "height": 289
        }
      },
      "source": [
        "lista_float = []\n",
        "dataset = dataset.select([col(c).cast(\"Float\") if c in lista_float else col(c).cast(\"Integer\") for c in dataset.columns ])\n",
        "dataset.printSchema()"
      ],
      "execution_count": null,
      "outputs": [
        {
          "output_type": "stream",
          "text": [
            "root\n",
            " |-- ID: integer (nullable = true)\n",
            " |-- city: integer (nullable = true)\n",
            " |-- area: integer (nullable = true)\n",
            " |-- rooms: integer (nullable = true)\n",
            " |-- bathroom: integer (nullable = true)\n",
            " |-- parking spaces: integer (nullable = true)\n",
            " |-- floor: integer (nullable = true)\n",
            " |-- animal: integer (nullable = true)\n",
            " |-- furniture: integer (nullable = true)\n",
            " |-- hoa: integer (nullable = true)\n",
            " |-- rent amount: integer (nullable = true)\n",
            " |-- property tax: integer (nullable = true)\n",
            " |-- fire insurance: integer (nullable = true)\n",
            " |-- total: integer (nullable = true)\n",
            "\n"
          ],
          "name": "stdout"
        }
      ]
    },
    {
      "cell_type": "code",
      "metadata": {
        "id": "U-J0lUUNtVrn",
        "outputId": "ad21051e-4171-42a2-d747-53a7707c547e",
        "colab": {
          "base_uri": "https://localhost:8080/",
          "height": 459
        }
      },
      "source": [
        "dataset.show()"
      ],
      "execution_count": null,
      "outputs": [
        {
          "output_type": "stream",
          "text": [
            "+---+----+----+-----+--------+--------------+-----+------+---------+----+-----------+------------+--------------+-----+\n",
            "| ID|city|area|rooms|bathroom|parking spaces|floor|animal|furniture| hoa|rent amount|property tax|fire insurance|total|\n",
            "+---+----+----+-----+--------+--------------+-----+------+---------+----+-----------+------------+--------------+-----+\n",
            "|  0|   1| 240|    3|       3|             4| null|     1|        1|   0|       8000|        1000|           121| 9121|\n",
            "|  1|   0|  64|    2|       1|             1|   10|     1|        0| 540|        820|         122|            11| 1493|\n",
            "|  2|   1| 443|    5|       5|             4|    3|     1|        1|4172|       7000|        1417|            89|12680|\n",
            "|  3|   1|  73|    2|       2|             1|   12|     1|        0| 700|       1250|         150|            16| 2116|\n",
            "|  4|   1|  19|    1|       1|             0| null|     0|        0|   0|       1200|          41|            16| 1257|\n",
            "|  5|   1|  13|    1|       1|             0|    2|     1|        0|   0|       2200|          42|            28| 2270|\n",
            "|  6|   1|  55|    1|       1|             1|    2|     1|        1|1950|       5000|         375|            64| 7389|\n",
            "|  7|   1|  55|    2|       2|             1|    2|     1|        0| 600|       1300|          67|            17| 1984|\n",
            "|  8|   1|  82|    3|       1|             1|    3|     1|        1| 828|       2000|         109|            26| 2963|\n",
            "|  9|   1|  32|    1|       1|             1|   16|     1|        0| 533|       2900|           0|            37| 3470|\n",
            "| 10|   0|  60|    1|       1|             0|    6|     1|        0| 480|        720|          20|            10| 1230|\n",
            "| 11|   0|  64|    1|       2|             1|    4|     1|        1| 406|       1550|           0|             7| 1963|\n",
            "| 12|   1|  20|    1|       1|             0|    4|     1|        1| 602|       1800|         130|            23| 2555|\n",
            "| 13|   1| 375|    4|       5|             5|    1|     1|        0|4793|      15000|        2805|           191|22790|\n",
            "| 14|   1|  92|    2|       1|             1|    7|     0|        1| 690|       3950|           0|            51| 4691|\n",
            "| 15|   0|  56|    2|       1|             1|    1|     1|        0| 345|        950|          11|            13| 1319|\n",
            "| 16|   0| 188|    2|       3|             8| null|     1|        0|   0|       3010|         584|            46| 3640|\n",
            "| 17|   1| 100|    3|       2|             1| null|     1|        0|   0|       3500|         260|            53| 3813|\n",
            "| 18|   1| 192|    3|       3|             2|   13|     1|        0|2100|       7800|         634|            99|10630|\n",
            "| 19|   1|  93|    3|       2|             1|   10|     1|        0|1497|       3500|         227|            45| 5269|\n",
            "+---+----+----+-----+--------+--------------+-----+------+---------+----+-----------+------------+--------------+-----+\n",
            "only showing top 20 rows\n",
            "\n"
          ],
          "name": "stdout"
        }
      ]
    },
    {
      "cell_type": "code",
      "metadata": {
        "id": "s5S6_7E7rZZW",
        "outputId": "ea3040c0-94b4-4af1-da15-e5481a59d961",
        "colab": {
          "base_uri": "https://localhost:8080/",
          "height": 119
        }
      },
      "source": [
        "dataset.select([count(when(isnan(c) | col(c).isNull(),c)).alias(c) for c in dataset.columns]).show()"
      ],
      "execution_count": null,
      "outputs": [
        {
          "output_type": "stream",
          "text": [
            "+---+----+----+-----+--------+--------------+-----+------+---------+---+-----------+------------+--------------+-----+\n",
            "| ID|city|area|rooms|bathroom|parking spaces|floor|animal|furniture|hoa|rent amount|property tax|fire insurance|total|\n",
            "+---+----+----+-----+--------+--------------+-----+------+---------+---+-----------+------------+--------------+-----+\n",
            "|  0|   0|   0|    0|       0|             0| 1555|     0|        0|202|          0|          27|             0|    0|\n",
            "+---+----+----+-----+--------+--------------+-----+------+---------+---+-----------+------------+--------------+-----+\n",
            "\n"
          ],
          "name": "stdout"
        }
      ]
    },
    {
      "cell_type": "code",
      "metadata": {
        "id": "zrmtg1furepE",
        "outputId": "450122f5-1e14-453d-80d5-f20e024cba99",
        "colab": {
          "base_uri": "https://localhost:8080/",
          "height": 207
        }
      },
      "source": [
        "dataset.describe().show()"
      ],
      "execution_count": null,
      "outputs": [
        {
          "output_type": "stream",
          "text": [
            "+-------+------------------+------------------+------------------+------------------+------------------+------------------+-----------------+-------------------+------------------+------------------+-----------------+-----------------+-----------------+-----------------+\n",
            "|summary|                ID|              city|              area|             rooms|          bathroom|    parking spaces|            floor|             animal|         furniture|               hoa|      rent amount|     property tax|   fire insurance|            total|\n",
            "+-------+------------------+------------------+------------------+------------------+------------------+------------------+-----------------+-------------------+------------------+------------------+-----------------+-----------------+-----------------+-----------------+\n",
            "|  count|              6080|              6080|              6080|              6080|              6080|              6080|             4525|               6080|              6080|              5878|             6080|             6053|             6080|             6080|\n",
            "|   mean|            3039.5|0.8633223684210526|151.14391447368422| 2.492598684210526| 2.341611842105263|           1.75625|7.621436464088398| 0.7674342105263158|0.2601973684210526|1125.8307247363048|4395.844407894737|492.5205683132331|58.20427631578947|6033.194572368421|\n",
            "| stddev|1755.2891499693148|0.3435349577192637|375.55948526695715|1.1296645317963483|1.4388604845456916|1.6119088446235266|6.023027588459168|0.42250242952960154|0.4387782622328833|4043.9976302559285|  3576.6689462284|6226.320762302373|49.31344114620117|8751.347699984131|\n",
            "|    min|                 0|                 0|                10|                 1|                 1|                 0|                1|                  0|                 0|                 0|              420|                0|                3|              660|\n",
            "|    max|              6079|                 1|             24606|                10|                10|                12|               99|                  1|                 1|            220000|            45000|           366300|              677|           372700|\n",
            "+-------+------------------+------------------+------------------+------------------+------------------+------------------+-----------------+-------------------+------------------+------------------+-----------------+-----------------+-----------------+-----------------+\n",
            "\n"
          ],
          "name": "stdout"
        }
      ]
    },
    {
      "cell_type": "code",
      "metadata": {
        "id": "Y75k9HvrtOY5"
      },
      "source": [
        "dataset = dataset.drop(\"floor\")"
      ],
      "execution_count": null,
      "outputs": []
    },
    {
      "cell_type": "code",
      "metadata": {
        "id": "sAFCIiVnt0Qo"
      },
      "source": [
        "dataset = dataset.dropna()"
      ],
      "execution_count": null,
      "outputs": []
    },
    {
      "cell_type": "code",
      "metadata": {
        "id": "n0MwZq5Uu4zA",
        "outputId": "6f550bb0-da90-4883-bde9-43a98d629cbb",
        "colab": {
          "base_uri": "https://localhost:8080/",
          "height": 459
        }
      },
      "source": [
        "dataset.show()"
      ],
      "execution_count": null,
      "outputs": [
        {
          "output_type": "stream",
          "text": [
            "+---+----+----+-----+--------+--------------+------+---------+----+-----------+------------+--------------+-----+\n",
            "| ID|city|area|rooms|bathroom|parking spaces|animal|furniture| hoa|rent amount|property tax|fire insurance|total|\n",
            "+---+----+----+-----+--------+--------------+------+---------+----+-----------+------------+--------------+-----+\n",
            "|  0|   1| 240|    3|       3|             4|     1|        1|   0|       8000|        1000|           121| 9121|\n",
            "|  1|   0|  64|    2|       1|             1|     1|        0| 540|        820|         122|            11| 1493|\n",
            "|  2|   1| 443|    5|       5|             4|     1|        1|4172|       7000|        1417|            89|12680|\n",
            "|  3|   1|  73|    2|       2|             1|     1|        0| 700|       1250|         150|            16| 2116|\n",
            "|  4|   1|  19|    1|       1|             0|     0|        0|   0|       1200|          41|            16| 1257|\n",
            "|  5|   1|  13|    1|       1|             0|     1|        0|   0|       2200|          42|            28| 2270|\n",
            "|  6|   1|  55|    1|       1|             1|     1|        1|1950|       5000|         375|            64| 7389|\n",
            "|  7|   1|  55|    2|       2|             1|     1|        0| 600|       1300|          67|            17| 1984|\n",
            "|  8|   1|  82|    3|       1|             1|     1|        1| 828|       2000|         109|            26| 2963|\n",
            "|  9|   1|  32|    1|       1|             1|     1|        0| 533|       2900|           0|            37| 3470|\n",
            "| 10|   0|  60|    1|       1|             0|     1|        0| 480|        720|          20|            10| 1230|\n",
            "| 11|   0|  64|    1|       2|             1|     1|        1| 406|       1550|           0|             7| 1963|\n",
            "| 12|   1|  20|    1|       1|             0|     1|        1| 602|       1800|         130|            23| 2555|\n",
            "| 13|   1| 375|    4|       5|             5|     1|        0|4793|      15000|        2805|           191|22790|\n",
            "| 14|   1|  92|    2|       1|             1|     0|        1| 690|       3950|           0|            51| 4691|\n",
            "| 15|   0|  56|    2|       1|             1|     1|        0| 345|        950|          11|            13| 1319|\n",
            "| 16|   0| 188|    2|       3|             8|     1|        0|   0|       3010|         584|            46| 3640|\n",
            "| 17|   1| 100|    3|       2|             1|     1|        0|   0|       3500|         260|            53| 3813|\n",
            "| 18|   1| 192|    3|       3|             2|     1|        0|2100|       7800|         634|            99|10630|\n",
            "| 19|   1|  93|    3|       2|             1|     1|        0|1497|       3500|         227|            45| 5269|\n",
            "+---+----+----+-----+--------+--------------+------+---------+----+-----------+------------+--------------+-----+\n",
            "only showing top 20 rows\n",
            "\n"
          ],
          "name": "stdout"
        }
      ]
    },
    {
      "cell_type": "code",
      "metadata": {
        "id": "aqjGjMhxvG-u"
      },
      "source": [
        "x = dataset.drop(\"total\")"
      ],
      "execution_count": null,
      "outputs": []
    },
    {
      "cell_type": "code",
      "metadata": {
        "id": "ir6Aa5csyl5F"
      },
      "source": [
        "ass = VectorAssembler(inputCols=x.columns, outputCol=\"features\")\n",
        "dataset = ass.transform(dataset)\n"
      ],
      "execution_count": null,
      "outputs": []
    },
    {
      "cell_type": "code",
      "metadata": {
        "id": "GlZz0lKhy2t-"
      },
      "source": [
        "dataset = dataset.withColumnRenamed(\"total\",\"label\")"
      ],
      "execution_count": null,
      "outputs": []
    },
    {
      "cell_type": "code",
      "metadata": {
        "id": "-n8CroCCzMqM",
        "outputId": "942d4956-9d4e-463f-9321-deedf7bf4cf2",
        "colab": {
          "base_uri": "https://localhost:8080/",
          "height": 479
        }
      },
      "source": [
        "dataset.show()"
      ],
      "execution_count": null,
      "outputs": [
        {
          "output_type": "stream",
          "text": [
            "+---+----+----+-----+--------+--------------+------+---------+----+-----------+------------+--------------+-----+--------------------+\n",
            "| ID|city|area|rooms|bathroom|parking spaces|animal|furniture| hoa|rent amount|property tax|fire insurance|label|            features|\n",
            "+---+----+----+-----+--------+--------------+------+---------+----+-----------+------------+--------------+-----+--------------------+\n",
            "|  0|   1| 240|    3|       3|             4|     1|        1|   0|       8000|        1000|           121| 9121|[0.0,1.0,240.0,3....|\n",
            "|  1|   0|  64|    2|       1|             1|     1|        0| 540|        820|         122|            11| 1493|[1.0,0.0,64.0,2.0...|\n",
            "|  2|   1| 443|    5|       5|             4|     1|        1|4172|       7000|        1417|            89|12680|[2.0,1.0,443.0,5....|\n",
            "|  3|   1|  73|    2|       2|             1|     1|        0| 700|       1250|         150|            16| 2116|[3.0,1.0,73.0,2.0...|\n",
            "|  4|   1|  19|    1|       1|             0|     0|        0|   0|       1200|          41|            16| 1257|[4.0,1.0,19.0,1.0...|\n",
            "|  5|   1|  13|    1|       1|             0|     1|        0|   0|       2200|          42|            28| 2270|[5.0,1.0,13.0,1.0...|\n",
            "|  6|   1|  55|    1|       1|             1|     1|        1|1950|       5000|         375|            64| 7389|[6.0,1.0,55.0,1.0...|\n",
            "|  7|   1|  55|    2|       2|             1|     1|        0| 600|       1300|          67|            17| 1984|[7.0,1.0,55.0,2.0...|\n",
            "|  8|   1|  82|    3|       1|             1|     1|        1| 828|       2000|         109|            26| 2963|[8.0,1.0,82.0,3.0...|\n",
            "|  9|   1|  32|    1|       1|             1|     1|        0| 533|       2900|           0|            37| 3470|[9.0,1.0,32.0,1.0...|\n",
            "| 10|   0|  60|    1|       1|             0|     1|        0| 480|        720|          20|            10| 1230|[10.0,0.0,60.0,1....|\n",
            "| 11|   0|  64|    1|       2|             1|     1|        1| 406|       1550|           0|             7| 1963|[11.0,0.0,64.0,1....|\n",
            "| 12|   1|  20|    1|       1|             0|     1|        1| 602|       1800|         130|            23| 2555|[12.0,1.0,20.0,1....|\n",
            "| 13|   1| 375|    4|       5|             5|     1|        0|4793|      15000|        2805|           191|22790|[13.0,1.0,375.0,4...|\n",
            "| 14|   1|  92|    2|       1|             1|     0|        1| 690|       3950|           0|            51| 4691|[14.0,1.0,92.0,2....|\n",
            "| 15|   0|  56|    2|       1|             1|     1|        0| 345|        950|          11|            13| 1319|[15.0,0.0,56.0,2....|\n",
            "| 16|   0| 188|    2|       3|             8|     1|        0|   0|       3010|         584|            46| 3640|[16.0,0.0,188.0,2...|\n",
            "| 17|   1| 100|    3|       2|             1|     1|        0|   0|       3500|         260|            53| 3813|[17.0,1.0,100.0,3...|\n",
            "| 18|   1| 192|    3|       3|             2|     1|        0|2100|       7800|         634|            99|10630|[18.0,1.0,192.0,3...|\n",
            "| 19|   1|  93|    3|       2|             1|     1|        0|1497|       3500|         227|            45| 5269|[19.0,1.0,93.0,3....|\n",
            "+---+----+----+-----+--------+--------------+------+---------+----+-----------+------------+--------------+-----+--------------------+\n",
            "only showing top 20 rows\n",
            "\n"
          ],
          "name": "stdout"
        }
      ]
    },
    {
      "cell_type": "code",
      "metadata": {
        "id": "yXXEqrFV1d3S"
      },
      "source": [
        "featureScaler = MinMaxScaler(inputCol=\"features\", outputCol=\"scaledFeatures\").fit(dataset)"
      ],
      "execution_count": null,
      "outputs": []
    },
    {
      "cell_type": "code",
      "metadata": {
        "id": "jOmkQ0svzPVq"
      },
      "source": [
        "(treino, teste) = dataset.randomSplit([0.7, 0.3])"
      ],
      "execution_count": null,
      "outputs": []
    },
    {
      "cell_type": "code",
      "metadata": {
        "id": "5ziY9VUx1Vm6"
      },
      "source": [
        "dt = GBTRegressor(featuresCol=\"scaledFeatures\")\n",
        "\n",
        "pipeline = Pipeline(stages=[featureScaler, dt])\n",
        "\n",
        "model = pipeline.fit(treino)\n",
        "\n",
        "pred = model.transform(teste)"
      ],
      "execution_count": null,
      "outputs": []
    },
    {
      "cell_type": "code",
      "metadata": {
        "id": "kM6Adjx81nTR",
        "outputId": "59102470-266c-427c-fe86-2b7d5a990ae5",
        "colab": {
          "base_uri": "https://localhost:8080/",
          "height": 408
        }
      },
      "source": [
        "pred.select(\"prediction\", \"label\", \"features\").show(15)\n",
        "\n",
        "avaliador = RegressionEvaluator(labelCol=\"label\", predictionCol=\"prediction\", metricName=\"mae\")\n",
        "\n",
        "mae = avaliador.evaluate(pred)\n",
        "\n",
        "print(\"Erro medio absoluto nos dados de teste = %g\" % mae)\n",
        "\n",
        "GBT = model.stages[1]\n",
        "print(GBT)"
      ],
      "execution_count": null,
      "outputs": [
        {
          "output_type": "stream",
          "text": [
            "+------------------+-----+--------------------+\n",
            "|        prediction|label|            features|\n",
            "+------------------+-----+--------------------+\n",
            "|  9456.07182231054| 9121|[0.0,1.0,240.0,3....|\n",
            "|1432.2770292031184| 1493|[1.0,0.0,64.0,2.0...|\n",
            "| 2649.208007140318| 2116|[3.0,1.0,73.0,2.0...|\n",
            "|1613.2700339579374| 1984|[7.0,1.0,55.0,2.0...|\n",
            "|4854.8366856911325| 4691|[14.0,1.0,92.0,2....|\n",
            "|1362.8475957971316| 1319|[15.0,0.0,56.0,2....|\n",
            "|3572.2207905979053| 3813|[17.0,1.0,100.0,3...|\n",
            "|2507.3115667738653| 2923|[20.0,1.0,155.0,3...|\n",
            "|4056.3621644682917| 4452|[22.0,1.0,65.0,2....|\n",
            "|3590.0537491097834| 3577|[25.0,1.0,31.0,1....|\n",
            "|15100.852021526594|17260|[27.0,1.0,300.0,3...|\n",
            "| 6230.835644332444| 6175|[29.0,1.0,130.0,3...|\n",
            "|  19010.3427742286|19100|[39.0,1.0,191.0,3...|\n",
            "|24948.272073552045|24530|[41.0,1.0,800.0,4...|\n",
            "|3456.4576450967006| 3000|[45.0,1.0,100.0,2...|\n",
            "+------------------+-----+--------------------+\n",
            "only showing top 15 rows\n",
            "\n",
            "Erro medio absoluto nos dados de teste = 1025.36\n",
            "GBTRegressionModel: uid=GBTRegressor_b6f3c9cfd7f7, numTrees=20, numFeatures=12\n"
          ],
          "name": "stdout"
        }
      ]
    },
    {
      "cell_type": "code",
      "metadata": {
        "id": "_qyf9TkO1r3N"
      },
      "source": [
        ""
      ],
      "execution_count": null,
      "outputs": []
    }
  ]
}