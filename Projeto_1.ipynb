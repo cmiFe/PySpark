{
  "nbformat": 4,
  "nbformat_minor": 0,
  "metadata": {
    "colab": {
      "name": "Projeto_1.ipynb",
      "provenance": [],
      "collapsed_sections": []
    },
    "kernelspec": {
      "name": "python3",
      "display_name": "Python 3"
    }
  },
  "cells": [
    {
      "cell_type": "code",
      "metadata": {
        "id": "L45Yl6lEPpWK",
        "outputId": "a060cf34-67bb-476b-e4d8-3d00c0268334",
        "colab": {
          "base_uri": "https://localhost:8080/"
        }
      },
      "source": [
        "!apt-get install openjdk-8-jdk-headless -qq > /dev/null\n",
        "!wget -q http://www-eu.apache.org/dist/spark/spark-2.4.1/spark-2.4.1-bin-hadoop2.7.tgz\n",
        "!tar xf spark-2.4.1-bin-hadoop2.7.tgz\n",
        "!pip install -q findspark\n",
        "!pip install -q pyspark\n"
      ],
      "execution_count": null,
      "outputs": [
        {
          "output_type": "stream",
          "text": [
            "tar: spark-2.4.1-bin-hadoop2.7.tgz: Cannot open: No such file or directory\n",
            "tar: Error is not recoverable: exiting now\n"
          ],
          "name": "stdout"
        }
      ]
    },
    {
      "cell_type": "code",
      "metadata": {
        "id": "NsqgsoHSPzSG"
      },
      "source": [
        "import pyspark\n",
        "from pyspark.sql import SparkSession\n",
        "from pyspark.sql.functions import isnan, when, count, col,lit\n",
        "from pyspark.sql.types import  StructField, StructType, StringType, IntegerType,FloatType\n",
        "from pyspark.ml.stat import Correlation\n",
        "from pyspark.ml.feature import VectorAssembler,MinMaxScaler\n",
        "import numpy as np\n",
        "from pyspark.ml import Pipeline\n",
        "from pyspark.ml.regression import GBTRegressor\n",
        "from pyspark.ml.evaluation import RegressionEvaluator"
      ],
      "execution_count": null,
      "outputs": []
    },
    {
      "cell_type": "code",
      "metadata": {
        "id": "z9ljp9P2QJIF"
      },
      "source": [
        "spark = SparkSession.builder.appName(\"Modelo de Regreção\").getOrCreate()\n",
        "dataset = spark.read.csv(\"sample_data/california_housing_train.csv\",header=True)\n",
        "dataset2 = spark.read.csv(\"sample_data/california_housing_test.csv\",header=True)"
      ],
      "execution_count": null,
      "outputs": []
    },
    {
      "cell_type": "code",
      "metadata": {
        "id": "fbPekvaEHo14",
        "outputId": "a304bc7c-431f-4329-e4aa-138de9cf7c82",
        "colab": {
          "base_uri": "https://localhost:8080/"
        }
      },
      "source": [
        "dataset.show()"
      ],
      "execution_count": null,
      "outputs": [
        {
          "output_type": "stream",
          "text": [
            "+-----------+---------+------------------+-----------+--------------+-----------+-----------+-------------+------------------+\n",
            "|  longitude| latitude|housing_median_age|total_rooms|total_bedrooms| population| households|median_income|median_house_value|\n",
            "+-----------+---------+------------------+-----------+--------------+-----------+-----------+-------------+------------------+\n",
            "|-114.310000|34.190000|         15.000000|5612.000000|   1283.000000|1015.000000| 472.000000|     1.493600|      66900.000000|\n",
            "|-114.470000|34.400000|         19.000000|7650.000000|   1901.000000|1129.000000| 463.000000|     1.820000|      80100.000000|\n",
            "|-114.560000|33.690000|         17.000000| 720.000000|    174.000000| 333.000000| 117.000000|     1.650900|      85700.000000|\n",
            "|-114.570000|33.640000|         14.000000|1501.000000|    337.000000| 515.000000| 226.000000|     3.191700|      73400.000000|\n",
            "|-114.570000|33.570000|         20.000000|1454.000000|    326.000000| 624.000000| 262.000000|     1.925000|      65500.000000|\n",
            "|-114.580000|33.630000|         29.000000|1387.000000|    236.000000| 671.000000| 239.000000|     3.343800|      74000.000000|\n",
            "|-114.580000|33.610000|         25.000000|2907.000000|    680.000000|1841.000000| 633.000000|     2.676800|      82400.000000|\n",
            "|-114.590000|34.830000|         41.000000| 812.000000|    168.000000| 375.000000| 158.000000|     1.708300|      48500.000000|\n",
            "|-114.590000|33.610000|         34.000000|4789.000000|   1175.000000|3134.000000|1056.000000|     2.178200|      58400.000000|\n",
            "|-114.600000|34.830000|         46.000000|1497.000000|    309.000000| 787.000000| 271.000000|     2.190800|      48100.000000|\n",
            "|-114.600000|33.620000|         16.000000|3741.000000|    801.000000|2434.000000| 824.000000|     2.679700|      86500.000000|\n",
            "|-114.600000|33.600000|         21.000000|1988.000000|    483.000000|1182.000000| 437.000000|     1.625000|      62000.000000|\n",
            "|-114.610000|34.840000|         48.000000|1291.000000|    248.000000| 580.000000| 211.000000|     2.157100|      48600.000000|\n",
            "|-114.610000|34.830000|         31.000000|2478.000000|    464.000000|1346.000000| 479.000000|     3.212000|      70400.000000|\n",
            "|-114.630000|32.760000|         15.000000|1448.000000|    378.000000| 949.000000| 300.000000|     0.858500|      45000.000000|\n",
            "|-114.650000|34.890000|         17.000000|2556.000000|    587.000000|1005.000000| 401.000000|     1.699100|      69100.000000|\n",
            "|-114.650000|33.600000|         28.000000|1678.000000|    322.000000| 666.000000| 256.000000|     2.965300|      94900.000000|\n",
            "|-114.650000|32.790000|         21.000000|  44.000000|     33.000000|  64.000000|  27.000000|     0.857100|      25000.000000|\n",
            "|-114.660000|32.740000|         17.000000|1388.000000|    386.000000| 775.000000| 320.000000|     1.204900|      44000.000000|\n",
            "|-114.670000|33.920000|         17.000000|  97.000000|     24.000000|  29.000000|  15.000000|     1.265600|      27500.000000|\n",
            "+-----------+---------+------------------+-----------+--------------+-----------+-----------+-------------+------------------+\n",
            "only showing top 20 rows\n",
            "\n"
          ],
          "name": "stdout"
        }
      ]
    },
    {
      "cell_type": "code",
      "metadata": {
        "id": "gC6xKnGMzPNI",
        "outputId": "b14afac8-5a2f-48f7-97e2-164065ba6dce",
        "colab": {
          "base_uri": "https://localhost:8080/"
        }
      },
      "source": [
        "dataset.count()"
      ],
      "execution_count": null,
      "outputs": [
        {
          "output_type": "execute_result",
          "data": {
            "text/plain": [
              "17000"
            ]
          },
          "metadata": {
            "tags": []
          },
          "execution_count": 602
        }
      ]
    },
    {
      "cell_type": "code",
      "metadata": {
        "id": "og4c2OY6H8sQ",
        "outputId": "00f62987-e6ba-4352-c786-cb16b159cd41",
        "colab": {
          "base_uri": "https://localhost:8080/"
        }
      },
      "source": [
        "dataset2.count()"
      ],
      "execution_count": null,
      "outputs": [
        {
          "output_type": "execute_result",
          "data": {
            "text/plain": [
              "3000"
            ]
          },
          "metadata": {
            "tags": []
          },
          "execution_count": 604
        }
      ]
    },
    {
      "cell_type": "code",
      "metadata": {
        "id": "fzjbmZy5yyKI"
      },
      "source": [
        "dataset = dataset.union(dataset2)"
      ],
      "execution_count": null,
      "outputs": []
    },
    {
      "cell_type": "code",
      "metadata": {
        "id": "9c4lJgO1zRQZ",
        "outputId": "68a45744-5a5f-469f-963e-a7c96d8ab616",
        "colab": {
          "base_uri": "https://localhost:8080/"
        }
      },
      "source": [
        "dataset.count()"
      ],
      "execution_count": null,
      "outputs": [
        {
          "output_type": "execute_result",
          "data": {
            "text/plain": [
              "20000"
            ]
          },
          "metadata": {
            "tags": []
          },
          "execution_count": 591
        }
      ]
    },
    {
      "cell_type": "code",
      "metadata": {
        "id": "pa5uAtH-Qnee",
        "outputId": "559f0cb0-e538-432b-a846-35c2cf9f5ea6",
        "colab": {
          "base_uri": "https://localhost:8080/"
        }
      },
      "source": [
        "dataset.show()"
      ],
      "execution_count": null,
      "outputs": [
        {
          "output_type": "stream",
          "text": [
            "+-----------+---------+------------------+-----------+--------------+-----------+-----------+-------------+------------------+\n",
            "|  longitude| latitude|housing_median_age|total_rooms|total_bedrooms| population| households|median_income|median_house_value|\n",
            "+-----------+---------+------------------+-----------+--------------+-----------+-----------+-------------+------------------+\n",
            "|-114.310000|34.190000|         15.000000|5612.000000|   1283.000000|1015.000000| 472.000000|     1.493600|      66900.000000|\n",
            "|-114.470000|34.400000|         19.000000|7650.000000|   1901.000000|1129.000000| 463.000000|     1.820000|      80100.000000|\n",
            "|-114.560000|33.690000|         17.000000| 720.000000|    174.000000| 333.000000| 117.000000|     1.650900|      85700.000000|\n",
            "|-114.570000|33.640000|         14.000000|1501.000000|    337.000000| 515.000000| 226.000000|     3.191700|      73400.000000|\n",
            "|-114.570000|33.570000|         20.000000|1454.000000|    326.000000| 624.000000| 262.000000|     1.925000|      65500.000000|\n",
            "|-114.580000|33.630000|         29.000000|1387.000000|    236.000000| 671.000000| 239.000000|     3.343800|      74000.000000|\n",
            "|-114.580000|33.610000|         25.000000|2907.000000|    680.000000|1841.000000| 633.000000|     2.676800|      82400.000000|\n",
            "|-114.590000|34.830000|         41.000000| 812.000000|    168.000000| 375.000000| 158.000000|     1.708300|      48500.000000|\n",
            "|-114.590000|33.610000|         34.000000|4789.000000|   1175.000000|3134.000000|1056.000000|     2.178200|      58400.000000|\n",
            "|-114.600000|34.830000|         46.000000|1497.000000|    309.000000| 787.000000| 271.000000|     2.190800|      48100.000000|\n",
            "|-114.600000|33.620000|         16.000000|3741.000000|    801.000000|2434.000000| 824.000000|     2.679700|      86500.000000|\n",
            "|-114.600000|33.600000|         21.000000|1988.000000|    483.000000|1182.000000| 437.000000|     1.625000|      62000.000000|\n",
            "|-114.610000|34.840000|         48.000000|1291.000000|    248.000000| 580.000000| 211.000000|     2.157100|      48600.000000|\n",
            "|-114.610000|34.830000|         31.000000|2478.000000|    464.000000|1346.000000| 479.000000|     3.212000|      70400.000000|\n",
            "|-114.630000|32.760000|         15.000000|1448.000000|    378.000000| 949.000000| 300.000000|     0.858500|      45000.000000|\n",
            "|-114.650000|34.890000|         17.000000|2556.000000|    587.000000|1005.000000| 401.000000|     1.699100|      69100.000000|\n",
            "|-114.650000|33.600000|         28.000000|1678.000000|    322.000000| 666.000000| 256.000000|     2.965300|      94900.000000|\n",
            "|-114.650000|32.790000|         21.000000|  44.000000|     33.000000|  64.000000|  27.000000|     0.857100|      25000.000000|\n",
            "|-114.660000|32.740000|         17.000000|1388.000000|    386.000000| 775.000000| 320.000000|     1.204900|      44000.000000|\n",
            "|-114.670000|33.920000|         17.000000|  97.000000|     24.000000|  29.000000|  15.000000|     1.265600|      27500.000000|\n",
            "+-----------+---------+------------------+-----------+--------------+-----------+-----------+-------------+------------------+\n",
            "only showing top 20 rows\n",
            "\n"
          ],
          "name": "stdout"
        }
      ]
    },
    {
      "cell_type": "code",
      "metadata": {
        "id": "bQopvQ3ARR3J",
        "outputId": "397ca60e-c2ad-4387-95f6-bf220da7aacd",
        "colab": {
          "base_uri": "https://localhost:8080/"
        }
      },
      "source": [
        "dataset.printSchema()"
      ],
      "execution_count": null,
      "outputs": [
        {
          "output_type": "stream",
          "text": [
            "root\n",
            " |-- longitude: string (nullable = true)\n",
            " |-- latitude: string (nullable = true)\n",
            " |-- housing_median_age: string (nullable = true)\n",
            " |-- total_rooms: string (nullable = true)\n",
            " |-- total_bedrooms: string (nullable = true)\n",
            " |-- population: string (nullable = true)\n",
            " |-- households: string (nullable = true)\n",
            " |-- median_income: string (nullable = true)\n",
            " |-- median_house_value: string (nullable = true)\n",
            "\n"
          ],
          "name": "stdout"
        }
      ]
    },
    {
      "cell_type": "code",
      "metadata": {
        "id": "aG0oQ2YWYRxu",
        "outputId": "22255800-bee8-4ef5-ef31-e1f7ee96456a",
        "colab": {
          "base_uri": "https://localhost:8080/"
        }
      },
      "source": [
        "dataset = dataset.withColumn(\"longitude\",dataset.longitude.cast(\"Float\"))\n",
        "dataset.printSchema()"
      ],
      "execution_count": null,
      "outputs": [
        {
          "output_type": "stream",
          "text": [
            "root\n",
            " |-- longitude: float (nullable = true)\n",
            " |-- latitude: string (nullable = true)\n",
            " |-- housing_median_age: string (nullable = true)\n",
            " |-- total_rooms: string (nullable = true)\n",
            " |-- total_bedrooms: string (nullable = true)\n",
            " |-- population: string (nullable = true)\n",
            " |-- households: string (nullable = true)\n",
            " |-- median_income: string (nullable = true)\n",
            " |-- median_house_value: string (nullable = true)\n",
            "\n"
          ],
          "name": "stdout"
        }
      ]
    },
    {
      "cell_type": "code",
      "metadata": {
        "id": "TWser5aPGZVv",
        "outputId": "5a665c49-0d70-4be7-d7e1-2c9a8a9c1d1a",
        "colab": {
          "base_uri": "https://localhost:8080/"
        }
      },
      "source": [
        "dataset.show()"
      ],
      "execution_count": null,
      "outputs": [
        {
          "output_type": "stream",
          "text": [
            "+---------+---------+------------------+-----------+--------------+-----------+-----------+-------------+------------------+\n",
            "|longitude| latitude|housing_median_age|total_rooms|total_bedrooms| population| households|median_income|median_house_value|\n",
            "+---------+---------+------------------+-----------+--------------+-----------+-----------+-------------+------------------+\n",
            "|  -114.31|34.190000|         15.000000|5612.000000|   1283.000000|1015.000000| 472.000000|     1.493600|      66900.000000|\n",
            "|  -114.47|34.400000|         19.000000|7650.000000|   1901.000000|1129.000000| 463.000000|     1.820000|      80100.000000|\n",
            "|  -114.56|33.690000|         17.000000| 720.000000|    174.000000| 333.000000| 117.000000|     1.650900|      85700.000000|\n",
            "|  -114.57|33.640000|         14.000000|1501.000000|    337.000000| 515.000000| 226.000000|     3.191700|      73400.000000|\n",
            "|  -114.57|33.570000|         20.000000|1454.000000|    326.000000| 624.000000| 262.000000|     1.925000|      65500.000000|\n",
            "|  -114.58|33.630000|         29.000000|1387.000000|    236.000000| 671.000000| 239.000000|     3.343800|      74000.000000|\n",
            "|  -114.58|33.610000|         25.000000|2907.000000|    680.000000|1841.000000| 633.000000|     2.676800|      82400.000000|\n",
            "|  -114.59|34.830000|         41.000000| 812.000000|    168.000000| 375.000000| 158.000000|     1.708300|      48500.000000|\n",
            "|  -114.59|33.610000|         34.000000|4789.000000|   1175.000000|3134.000000|1056.000000|     2.178200|      58400.000000|\n",
            "|   -114.6|34.830000|         46.000000|1497.000000|    309.000000| 787.000000| 271.000000|     2.190800|      48100.000000|\n",
            "|   -114.6|33.620000|         16.000000|3741.000000|    801.000000|2434.000000| 824.000000|     2.679700|      86500.000000|\n",
            "|   -114.6|33.600000|         21.000000|1988.000000|    483.000000|1182.000000| 437.000000|     1.625000|      62000.000000|\n",
            "|  -114.61|34.840000|         48.000000|1291.000000|    248.000000| 580.000000| 211.000000|     2.157100|      48600.000000|\n",
            "|  -114.61|34.830000|         31.000000|2478.000000|    464.000000|1346.000000| 479.000000|     3.212000|      70400.000000|\n",
            "|  -114.63|32.760000|         15.000000|1448.000000|    378.000000| 949.000000| 300.000000|     0.858500|      45000.000000|\n",
            "|  -114.65|34.890000|         17.000000|2556.000000|    587.000000|1005.000000| 401.000000|     1.699100|      69100.000000|\n",
            "|  -114.65|33.600000|         28.000000|1678.000000|    322.000000| 666.000000| 256.000000|     2.965300|      94900.000000|\n",
            "|  -114.65|32.790000|         21.000000|  44.000000|     33.000000|  64.000000|  27.000000|     0.857100|      25000.000000|\n",
            "|  -114.66|32.740000|         17.000000|1388.000000|    386.000000| 775.000000| 320.000000|     1.204900|      44000.000000|\n",
            "|  -114.67|33.920000|         17.000000|  97.000000|     24.000000|  29.000000|  15.000000|     1.265600|      27500.000000|\n",
            "+---------+---------+------------------+-----------+--------------+-----------+-----------+-------------+------------------+\n",
            "only showing top 20 rows\n",
            "\n"
          ],
          "name": "stdout"
        }
      ]
    },
    {
      "cell_type": "code",
      "metadata": {
        "id": "Wj7C_n_VZkQ1",
        "outputId": "17dbdee1-b317-425b-d880-db891504c615",
        "colab": {
          "base_uri": "https://localhost:8080/",
          "height": 167
        }
      },
      "source": [
        "dataset.select(\"latitude\").show)()"
      ],
      "execution_count": null,
      "outputs": [
        {
          "output_type": "error",
          "ename": "NameError",
          "evalue": "ignored",
          "traceback": [
            "\u001b[0;31m---------------------------------------------------------------------------\u001b[0m",
            "\u001b[0;31mNameError\u001b[0m                                 Traceback (most recent call last)",
            "\u001b[0;32m<ipython-input-1-5c89a85c317b>\u001b[0m in \u001b[0;36m<module>\u001b[0;34m()\u001b[0m\n\u001b[0;32m----> 1\u001b[0;31m \u001b[0mdataset\u001b[0m\u001b[0;34m.\u001b[0m\u001b[0mselect\u001b[0m\u001b[0;34m(\u001b[0m\u001b[0;34m\"latitude\"\u001b[0m\u001b[0;34m)\u001b[0m\u001b[0;34m\u001b[0m\u001b[0;34m\u001b[0m\u001b[0m\n\u001b[0m",
            "\u001b[0;31mNameError\u001b[0m: name 'dataset' is not defined"
          ]
        }
      ]
    },
    {
      "cell_type": "code",
      "metadata": {
        "id": "7bhhREjjSAf5",
        "outputId": "5d44ae68-92ed-4f46-ddd0-f17efa807556",
        "colab": {
          "base_uri": "https://localhost:8080/"
        }
      },
      "source": [
        "lista_float = [\"longitude\",\"latitude\",\"median_income\",\"median_house_value\"]\n",
        "dataset = dataset.select([col(c).cast(\"Float\") if c in lista_float else col(c).cast(\"Integer\") for c in dataset.columns ])\n",
        "dataset.printSchema()"
      ],
      "execution_count": null,
      "outputs": [
        {
          "output_type": "stream",
          "text": [
            "root\n",
            " |-- longitude: float (nullable = true)\n",
            " |-- latitude: float (nullable = true)\n",
            " |-- housing_median_age: integer (nullable = true)\n",
            " |-- total_rooms: integer (nullable = true)\n",
            " |-- total_bedrooms: integer (nullable = true)\n",
            " |-- population: integer (nullable = true)\n",
            " |-- households: integer (nullable = true)\n",
            " |-- median_income: float (nullable = true)\n",
            " |-- median_house_value: float (nullable = true)\n",
            "\n"
          ],
          "name": "stdout"
        }
      ]
    },
    {
      "cell_type": "code",
      "metadata": {
        "id": "QqWrskqyJ7mI",
        "outputId": "c3a71185-ae9b-41a7-8dd2-2f89157c4a9a",
        "colab": {
          "base_uri": "https://localhost:8080/"
        }
      },
      "source": [
        "dataset.show()"
      ],
      "execution_count": null,
      "outputs": [
        {
          "output_type": "stream",
          "text": [
            "+---------+--------+------------------+-----------+--------------+----------+----------+-------------+------------------+\n",
            "|longitude|latitude|housing_median_age|total_rooms|total_bedrooms|population|households|median_income|median_house_value|\n",
            "+---------+--------+------------------+-----------+--------------+----------+----------+-------------+------------------+\n",
            "|  -114.31|   34.19|                15|       5612|          1283|      1015|       472|       1.4936|           66900.0|\n",
            "|  -114.47|    34.4|                19|       7650|          1901|      1129|       463|         1.82|           80100.0|\n",
            "|  -114.56|   33.69|                17|        720|           174|       333|       117|       1.6509|           85700.0|\n",
            "|  -114.57|   33.64|                14|       1501|           337|       515|       226|       3.1917|           73400.0|\n",
            "|  -114.57|   33.57|                20|       1454|           326|       624|       262|        1.925|           65500.0|\n",
            "|  -114.58|   33.63|                29|       1387|           236|       671|       239|       3.3438|           74000.0|\n",
            "|  -114.58|   33.61|                25|       2907|           680|      1841|       633|       2.6768|           82400.0|\n",
            "|  -114.59|   34.83|                41|        812|           168|       375|       158|       1.7083|           48500.0|\n",
            "|  -114.59|   33.61|                34|       4789|          1175|      3134|      1056|       2.1782|           58400.0|\n",
            "|   -114.6|   34.83|                46|       1497|           309|       787|       271|       2.1908|           48100.0|\n",
            "|   -114.6|   33.62|                16|       3741|           801|      2434|       824|       2.6797|           86500.0|\n",
            "|   -114.6|    33.6|                21|       1988|           483|      1182|       437|        1.625|           62000.0|\n",
            "|  -114.61|   34.84|                48|       1291|           248|       580|       211|       2.1571|           48600.0|\n",
            "|  -114.61|   34.83|                31|       2478|           464|      1346|       479|        3.212|           70400.0|\n",
            "|  -114.63|   32.76|                15|       1448|           378|       949|       300|       0.8585|           45000.0|\n",
            "|  -114.65|   34.89|                17|       2556|           587|      1005|       401|       1.6991|           69100.0|\n",
            "|  -114.65|    33.6|                28|       1678|           322|       666|       256|       2.9653|           94900.0|\n",
            "|  -114.65|   32.79|                21|         44|            33|        64|        27|       0.8571|           25000.0|\n",
            "|  -114.66|   32.74|                17|       1388|           386|       775|       320|       1.2049|           44000.0|\n",
            "|  -114.67|   33.92|                17|         97|            24|        29|        15|       1.2656|           27500.0|\n",
            "+---------+--------+------------------+-----------+--------------+----------+----------+-------------+------------------+\n",
            "only showing top 20 rows\n",
            "\n"
          ],
          "name": "stdout"
        }
      ]
    },
    {
      "cell_type": "code",
      "metadata": {
        "id": "0qpoetVTUdJq",
        "outputId": "25364b94-64dd-4e95-e601-09cf85907e67",
        "colab": {
          "base_uri": "https://localhost:8080/"
        }
      },
      "source": [
        "dataset.select([count(when(isnan(c) | col(c).isNull(),c)).alias(c) for c in dataset.columns]).show()"
      ],
      "execution_count": null,
      "outputs": [
        {
          "output_type": "stream",
          "text": [
            "+---------+--------+------------------+-----------+--------------+----------+----------+-------------+------------------+\n",
            "|longitude|latitude|housing_median_age|total_rooms|total_bedrooms|population|households|median_income|median_house_value|\n",
            "+---------+--------+------------------+-----------+--------------+----------+----------+-------------+------------------+\n",
            "|        0|       0|                 0|          0|             0|         0|         0|            0|                 0|\n",
            "+---------+--------+------------------+-----------+--------------+----------+----------+-------------+------------------+\n",
            "\n"
          ],
          "name": "stdout"
        }
      ]
    },
    {
      "cell_type": "code",
      "metadata": {
        "id": "dv-0ySvrWIMj"
      },
      "source": [
        "vetor_col = \"corr_features\"\n",
        "ass = VectorAssembler(inputCols=dataset.columns, outputCol=vetor_col)\n",
        "df_vetor = ass.transform(dataset).select(vetor_col)\n",
        "matrix = Correlation.corr(df_vetor, vetor_col)"
      ],
      "execution_count": null,
      "outputs": []
    },
    {
      "cell_type": "code",
      "metadata": {
        "id": "X_3CJ9r9K5H1",
        "outputId": "48fb42f7-a8de-4901-fc43-35ae92a86c66",
        "colab": {
          "base_uri": "https://localhost:8080/"
        }
      },
      "source": [
        "df_vetor.show()"
      ],
      "execution_count": null,
      "outputs": [
        {
          "output_type": "stream",
          "text": [
            "+--------------------+\n",
            "|       corr_features|\n",
            "+--------------------+\n",
            "|[-114.30999755859...|\n",
            "|[-114.47000122070...|\n",
            "|[-114.55999755859...|\n",
            "|[-114.56999969482...|\n",
            "|[-114.56999969482...|\n",
            "|[-114.58000183105...|\n",
            "|[-114.58000183105...|\n",
            "|[-114.58999633789...|\n",
            "|[-114.58999633789...|\n",
            "|[-114.59999847412...|\n",
            "|[-114.59999847412...|\n",
            "|[-114.59999847412...|\n",
            "|[-114.61000061035...|\n",
            "|[-114.61000061035...|\n",
            "|[-114.62999725341...|\n",
            "|[-114.65000152587...|\n",
            "|[-114.65000152587...|\n",
            "|[-114.65000152587...|\n",
            "|[-114.66000366210...|\n",
            "|[-114.66999816894...|\n",
            "+--------------------+\n",
            "only showing top 20 rows\n",
            "\n"
          ],
          "name": "stdout"
        }
      ]
    },
    {
      "cell_type": "code",
      "metadata": {
        "id": "E077u8-VggOc"
      },
      "source": [
        "matrix = matrix.collect()[0][0].values\n",
        "matrix_cor = np.reshape(matrix,(9,9))"
      ],
      "execution_count": null,
      "outputs": []
    },
    {
      "cell_type": "code",
      "metadata": {
        "id": "WcYUoy8biuab",
        "outputId": "4aa68f31-f498-436b-ce97-322682bdb4e6",
        "colab": {
          "base_uri": "https://localhost:8080/"
        }
      },
      "source": [
        "\n",
        "schema = StructType([\n",
        "    StructField('longitude', FloatType(), True),\n",
        "    StructField('latitude',  FloatType(), True),\n",
        "    StructField('housing_median_age',  FloatType(), True),\n",
        "    StructField('total_rooms',  FloatType(), True),\n",
        "    StructField('total_bedrooms',  FloatType(), True),\n",
        "    StructField('population',  FloatType(), True),\n",
        "    StructField('households',  FloatType(), True),\n",
        "    StructField('median_income',  FloatType(), True),\n",
        "    StructField('median_house_value',  FloatType(), True)\n",
        "])\n",
        "\n",
        "rdd = spark.sparkContext.parallelize(matrix_cor.tolist())\n",
        "df = spark.createDataFrame(rdd,schema)\n",
        "df.show()"
      ],
      "execution_count": null,
      "outputs": [
        {
          "output_type": "stream",
          "text": [
            "+------------+------------+------------------+-----------+--------------+------------+-----------+-------------+------------------+\n",
            "|   longitude|    latitude|housing_median_age|total_rooms|total_bedrooms|  population| households|median_income|median_house_value|\n",
            "+------------+------------+------------------+-----------+--------------+------------+-----------+-------------+------------------+\n",
            "|         1.0| -0.92517567|       -0.10682448|0.047465634|    0.07169962|  0.10299369| 0.05844283| -0.015882086|      -0.045788176|\n",
            "| -0.92517567|         1.0|       0.010260145|-0.03891092|   -0.06921718| -0.11202547| -0.0739602| -0.079157405|       -0.14396892|\n",
            "| -0.10682448| 0.010260145|               1.0|-0.36203358|   -0.32087323| -0.29628474| -0.3031087|  -0.12016073|        0.10446951|\n",
            "| 0.047465634| -0.03891092|       -0.36203358|        1.0|     0.9297782|  0.85682565|   0.918234|   0.19920687|        0.13529752|\n",
            "|  0.07169962| -0.06921718|       -0.32087323|  0.9297782|           1.0|   0.8773774|  0.9793953| -0.007951812|       0.051110916|\n",
            "|  0.10299369| -0.11202547|       -0.29628474| 0.85682565|     0.8773774|         1.0| 0.90729135|  0.003883738|      -0.024234166|\n",
            "|  0.05844283|  -0.0739602|        -0.3031087|   0.918234|     0.9793953|  0.90729135|        1.0|  0.013534965|       0.066572584|\n",
            "|-0.015882086|-0.079157405|       -0.12016073| 0.19920687|  -0.007951812| 0.003883738|0.013534965|          1.0|        0.68910944|\n",
            "|-0.045788176| -0.14396892|        0.10446951| 0.13529752|   0.051110916|-0.024234166|0.066572584|   0.68910944|               1.0|\n",
            "+------------+------------+------------------+-----------+--------------+------------+-----------+-------------+------------------+\n",
            "\n"
          ],
          "name": "stdout"
        }
      ]
    },
    {
      "cell_type": "code",
      "metadata": {
        "id": "h-M38gKen-tS",
        "outputId": "2ea61fcf-478d-48d8-c5cc-dc50d1d436dc",
        "colab": {
          "base_uri": "https://localhost:8080/"
        }
      },
      "source": [
        "dataset.columns"
      ],
      "execution_count": null,
      "outputs": [
        {
          "output_type": "execute_result",
          "data": {
            "text/plain": [
              "['longitude',\n",
              " 'latitude',\n",
              " 'housing_median_age',\n",
              " 'total_rooms',\n",
              " 'total_bedrooms',\n",
              " 'population',\n",
              " 'households',\n",
              " 'median_income',\n",
              " 'median_house_value']"
            ]
          },
          "metadata": {
            "tags": []
          },
          "execution_count": 569
        }
      ]
    },
    {
      "cell_type": "code",
      "metadata": {
        "id": "sSZc9fYde-2g"
      },
      "source": [
        "assembler = VectorAssembler(inputCols=['longitude',\n",
        " 'latitude',\n",
        " 'housing_median_age',\n",
        " 'total_rooms',\n",
        " 'total_bedrooms',\n",
        " 'population',\n",
        " 'households',\n",
        " 'median_income',\n",
        " ], outputCol=\"features\")\n",
        "df = assembler.transform(dataset)\n",
        "df = df.withColumn(\"label\",df.median_house_value)\n"
      ],
      "execution_count": null,
      "outputs": []
    },
    {
      "cell_type": "code",
      "metadata": {
        "id": "CcBfLED1qUKh"
      },
      "source": [
        "df = df.drop(\"median_house_value\")\n",
        "#df = df.drop(\"longitude\")\n",
        "#df = df.drop(\"latitude\")"
      ],
      "execution_count": null,
      "outputs": []
    },
    {
      "cell_type": "code",
      "metadata": {
        "id": "fkhS-qIY07DA",
        "outputId": "d4068208-0d30-4f59-80b9-b675d7352160",
        "colab": {
          "base_uri": "https://localhost:8080/"
        }
      },
      "source": [
        "df.groupby(\"total_rooms\").count().show()"
      ],
      "execution_count": null,
      "outputs": [
        {
          "output_type": "stream",
          "text": [
            "+-----------+-----+\n",
            "|total_rooms|count|\n",
            "+-----------+-----+\n",
            "|       1088|    6|\n",
            "|       7240|    1|\n",
            "|       2366|    7|\n",
            "|       1645|    5|\n",
            "|        833|    5|\n",
            "|       1580|   12|\n",
            "|       1591|   11|\n",
            "|       2866|    4|\n",
            "|       7880|    2|\n",
            "|       1342|    5|\n",
            "|       2142|    9|\n",
            "|       4935|    1|\n",
            "|       1959|    6|\n",
            "|       1829|   10|\n",
            "|       1238|    3|\n",
            "|       2122|    7|\n",
            "|       6336|    1|\n",
            "|        471|    2|\n",
            "|       2659|    2|\n",
            "|       3175|    3|\n",
            "+-----------+-----+\n",
            "only showing top 20 rows\n",
            "\n"
          ],
          "name": "stdout"
        }
      ]
    },
    {
      "cell_type": "code",
      "metadata": {
        "id": "z2W-kquc1FL6"
      },
      "source": [
        "df = df.withColumn('median_income',df.median_income * 1000)\n",
        "df = df.withColumn('median_income',df.median_income.cast(\"Integer\"))\n",
        "df = df.withColumn('label',df.label.cast('Integer'))"
      ],
      "execution_count": null,
      "outputs": []
    },
    {
      "cell_type": "code",
      "metadata": {
        "id": "6MOkAylCrc5l",
        "outputId": "ccb6c958-9f9a-4e69-f2a8-51af68f7a5d9",
        "colab": {
          "base_uri": "https://localhost:8080/"
        }
      },
      "source": [
        "df.printSchema()"
      ],
      "execution_count": null,
      "outputs": [
        {
          "output_type": "stream",
          "text": [
            "root\n",
            " |-- longitude: float (nullable = true)\n",
            " |-- latitude: float (nullable = true)\n",
            " |-- housing_median_age: integer (nullable = true)\n",
            " |-- total_rooms: integer (nullable = true)\n",
            " |-- total_bedrooms: integer (nullable = true)\n",
            " |-- population: integer (nullable = true)\n",
            " |-- households: integer (nullable = true)\n",
            " |-- median_income: integer (nullable = true)\n",
            " |-- features: vector (nullable = true)\n",
            " |-- label: integer (nullable = true)\n",
            "\n"
          ],
          "name": "stdout"
        }
      ]
    },
    {
      "cell_type": "code",
      "metadata": {
        "id": "p-Xd2iblEu-V"
      },
      "source": [
        "df = df.filter(df['label']<300000)"
      ],
      "execution_count": null,
      "outputs": []
    },
    {
      "cell_type": "code",
      "metadata": {
        "id": "a1gAgcJEEzAt",
        "outputId": "692f971e-d6df-47bb-a3f3-75cd97f4659c",
        "colab": {
          "base_uri": "https://localhost:8080/"
        }
      },
      "source": [
        "df.show()"
      ],
      "execution_count": null,
      "outputs": [
        {
          "output_type": "stream",
          "text": [
            "+---------+--------+------------------+-----------+--------------+----------+----------+-------------+--------------------+-----+\n",
            "|longitude|latitude|housing_median_age|total_rooms|total_bedrooms|population|households|median_income|            features|label|\n",
            "+---------+--------+------------------+-----------+--------------+----------+----------+-------------+--------------------+-----+\n",
            "|  -114.31|   34.19|                15|       5612|          1283|      1015|       472|         1493|[-114.30999755859...|66900|\n",
            "|  -114.47|    34.4|                19|       7650|          1901|      1129|       463|         1820|[-114.47000122070...|80100|\n",
            "|  -114.56|   33.69|                17|        720|           174|       333|       117|         1650|[-114.55999755859...|85700|\n",
            "|  -114.57|   33.64|                14|       1501|           337|       515|       226|         3191|[-114.56999969482...|73400|\n",
            "|  -114.57|   33.57|                20|       1454|           326|       624|       262|         1925|[-114.56999969482...|65500|\n",
            "|  -114.58|   33.63|                29|       1387|           236|       671|       239|         3343|[-114.58000183105...|74000|\n",
            "|  -114.58|   33.61|                25|       2907|           680|      1841|       633|         2676|[-114.58000183105...|82400|\n",
            "|  -114.59|   34.83|                41|        812|           168|       375|       158|         1708|[-114.58999633789...|48500|\n",
            "|  -114.59|   33.61|                34|       4789|          1175|      3134|      1056|         2178|[-114.58999633789...|58400|\n",
            "|   -114.6|   34.83|                46|       1497|           309|       787|       271|         2190|[-114.59999847412...|48100|\n",
            "|   -114.6|   33.62|                16|       3741|           801|      2434|       824|         2679|[-114.59999847412...|86500|\n",
            "|   -114.6|    33.6|                21|       1988|           483|      1182|       437|         1625|[-114.59999847412...|62000|\n",
            "|  -114.61|   34.84|                48|       1291|           248|       580|       211|         2157|[-114.61000061035...|48600|\n",
            "|  -114.61|   34.83|                31|       2478|           464|      1346|       479|         3212|[-114.61000061035...|70400|\n",
            "|  -114.63|   32.76|                15|       1448|           378|       949|       300|          858|[-114.62999725341...|45000|\n",
            "|  -114.65|   34.89|                17|       2556|           587|      1005|       401|         1699|[-114.65000152587...|69100|\n",
            "|  -114.65|    33.6|                28|       1678|           322|       666|       256|         2965|[-114.65000152587...|94900|\n",
            "|  -114.65|   32.79|                21|         44|            33|        64|        27|          857|[-114.65000152587...|25000|\n",
            "|  -114.66|   32.74|                17|       1388|           386|       775|       320|         1204|[-114.66000366210...|44000|\n",
            "|  -114.67|   33.92|                17|         97|            24|        29|        15|         1265|[-114.66999816894...|27500|\n",
            "+---------+--------+------------------+-----------+--------------+----------+----------+-------------+--------------------+-----+\n",
            "only showing top 20 rows\n",
            "\n"
          ],
          "name": "stdout"
        }
      ]
    },
    {
      "cell_type": "code",
      "metadata": {
        "id": "ec8XNH5c46oY"
      },
      "source": [
        "featureScaler = MinMaxScaler(inputCol=\"features\", outputCol=\"scaledFeatures\").fit(df)"
      ],
      "execution_count": null,
      "outputs": []
    },
    {
      "cell_type": "code",
      "metadata": {
        "id": "843kMWnLl7Ij"
      },
      "source": [
        "(treino, teste) = df.randomSplit([0.7, 0.3])\n",
        "\n",
        "dt = GBTRegressor(featuresCol=\"scaledFeatures\")\n",
        "\n",
        "pipeline = Pipeline(stages=[featureScaler, dt])\n",
        "\n",
        "model = pipeline.fit(treino)\n",
        "\n",
        "pred = model.transform(teste)"
      ],
      "execution_count": null,
      "outputs": []
    },
    {
      "cell_type": "code",
      "metadata": {
        "id": "aSC2vrl4pELR",
        "outputId": "30c5edf0-7445-4c20-da5f-b3b45f49d25c",
        "colab": {
          "base_uri": "https://localhost:8080/"
        }
      },
      "source": [
        "pred.select(\"prediction\", \"label\", \"features\").show(15)\n",
        "\n",
        "avaliador = RegressionEvaluator(labelCol=\"label\", predictionCol=\"prediction\", metricName=\"mae\")\n",
        "\n",
        "mae = avaliador.evaluate(pred)\n",
        "\n",
        "print(\"Erro medio absoluto nos dados de teste = %g\" % mae)\n",
        "\n",
        "GBT = model.stages[1]\n",
        "print(GBT)"
      ],
      "execution_count": null,
      "outputs": [
        {
          "output_type": "stream",
          "text": [
            "+------------------+------+--------------------+\n",
            "|        prediction| label|            features|\n",
            "+------------------+------+--------------------+\n",
            "| 83707.43521846783| 85800|[-124.30000305175...|\n",
            "| 95724.24343764603| 79000|[-124.26999664306...|\n",
            "|106144.92990711823|106700|[-124.23000335693...|\n",
            "|102653.65407646306| 50800|[-124.23000335693...|\n",
            "|   96209.929696267| 58100|[-124.20999908447...|\n",
            "| 98805.54177811905| 69000|[-124.19000244140...|\n",
            "|  81041.4109249334| 70000|[-124.19000244140...|\n",
            "|102855.47793960074|107000|[-124.18000030517...|\n",
            "|    85919.56007191| 70200|[-124.18000030517...|\n",
            "| 96997.40435467602| 82800|[-124.16999816894...|\n",
            "|  89556.4743892419| 75500|[-124.16999816894...|\n",
            "| 93409.56771491795| 85400|[-124.16000366210...|\n",
            "| 88208.91961847899| 76900|[-124.16000366210...|\n",
            "| 94743.56145102641| 92700|[-124.16000366210...|\n",
            "| 95034.42481360912| 74100|[-124.16000366210...|\n",
            "+------------------+------+--------------------+\n",
            "only showing top 15 rows\n",
            "\n",
            "Erro medio absoluto nos dados de teste = 28278\n",
            "GBTRegressionModel: uid=GBTRegressor_1c8aff5c8390, numTrees=20, numFeatures=8\n"
          ],
          "name": "stdout"
        }
      ]
    },
    {
      "cell_type": "code",
      "metadata": {
        "id": "Hrs-tOUDEYDM"
      },
      "source": [
        ""
      ],
      "execution_count": null,
      "outputs": []
    }
  ]
}